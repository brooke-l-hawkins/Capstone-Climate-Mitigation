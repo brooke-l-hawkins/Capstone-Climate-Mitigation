{
 "cells": [
  {
   "cell_type": "markdown",
   "metadata": {},
   "source": [
    "# Weather Perception Visualizations"
   ]
  },
  {
   "cell_type": "markdown",
   "metadata": {},
   "source": [
    "## Set up"
   ]
  },
  {
   "cell_type": "code",
   "execution_count": 1,
   "metadata": {},
   "outputs": [],
   "source": [
    "import numpy as np\n",
    "import pandas as pd\n",
    "import matplotlib.pyplot as plt\n",
    "import seaborn as sns\n",
    "sns.set_theme()"
   ]
  },
  {
   "cell_type": "code",
   "execution_count": 2,
   "metadata": {},
   "outputs": [],
   "source": [
    "def print_column_info(df, col_name):\n",
    "    \"\"\"\n",
    "    Print range, completeness, and data type of column with provided name and dataframe\n",
    "    \"\"\"\n",
    "    print(f'COLUMN {col_name} | Range: {df[col_name].min()} to {df[col_name].max()} | NAs: {df[col_name].isna().sum()} | Type: {df[col_name].dtype}')"
   ]
  },
  {
   "cell_type": "code",
   "execution_count": 3,
   "metadata": {},
   "outputs": [],
   "source": [
    "# load data\n",
    "df = pd.read_csv('../../data/raw/rawdata_new.csv')"
   ]
  },
  {
   "cell_type": "markdown",
   "metadata": {},
   "source": [
    "## Visualizations"
   ]
  },
  {
   "cell_type": "markdown",
   "metadata": {},
   "source": [
    "### Do farmers think climate change will have consequences for agriculture in Switzerland?"
   ]
  },
  {
   "cell_type": "markdown",
   "metadata": {},
   "source": [
    "Quick data exploration - is the data complete, in the expected range, and of the expected type?"
   ]
  },
  {
   "cell_type": "code",
   "execution_count": 4,
   "metadata": {},
   "outputs": [
    {
     "name": "stdout",
     "output_type": "stream",
     "text": [
      "COLUMN cons_general | Range: 1 to 5 | NAs: 0 | Type: int64\n"
     ]
    },
    {
     "data": {
      "text/plain": [
       "0    4\n",
       "1    5\n",
       "2    4\n",
       "3    4\n",
       "4    5\n",
       "Name: cons_general, dtype: int64"
      ]
     },
     "execution_count": 4,
     "metadata": {},
     "output_type": "execute_result"
    }
   ],
   "source": [
    "# is the data complete, in the expected range, and of the expected type?\n",
    "print_column_info(df, 'cons_general')\n",
    "\n",
    "# quick peek at the relevant column\n",
    "df['cons_general'].head(5)"
   ]
  },
  {
   "cell_type": "markdown",
   "metadata": {},
   "source": [
    "Yes, the data is complete, and it is an integer ranging from 1 to 5 inclusive as expected."
   ]
  },
  {
   "cell_type": "code",
   "execution_count": 5,
   "metadata": {},
   "outputs": [
    {
     "data": {
      "text/plain": [
       "<AxesSubplot:xlabel='cons_general', ylabel='Count'>"
      ]
     },
     "execution_count": 5,
     "metadata": {},
     "output_type": "execute_result"
    },
    {
     "data": {
      "image/png": "[encoded data removed]",
      "text/plain": [
       "<Figure size 432x288 with 1 Axes>"
      ]
     },
     "metadata": {},
     "output_type": "display_data"
    }
   ],
   "source": [
    "sns.histplot(data=df, x='cons_general', bins=5)"
   ]
  },
  {
   "cell_type": "markdown",
   "metadata": {},
   "source": [
    "Most farmers expecte negative (rating 4) or very negative consequences (rating 5) of climate change on Swiss agriculture.\n",
    "\n",
    "I wonder if that is representative of farmers overall, or if there is a self-selection bias - farmers who are concerned about climate change were more likely to take the survey in the first place."
   ]
  },
  {
   "cell_type": "markdown",
   "metadata": {},
   "source": [
    "### Do farmers think climate change will have consequences for the economic development of their farm?"
   ]
  },
  {
   "cell_type": "markdown",
   "metadata": {},
   "source": [
    "Quick data exploration - is the data complete, in the expected range, and of the expected type?"
   ]
  },
  {
   "cell_type": "code",
   "execution_count": 6,
   "metadata": {},
   "outputs": [
    {
     "name": "stdout",
     "output_type": "stream",
     "text": [
      "COLUMN cons_farm | Range: 1 to 5 | NAs: 0 | Type: int64\n"
     ]
    },
    {
     "data": {
      "text/plain": [
       "0    4\n",
       "1    5\n",
       "2    4\n",
       "3    4\n",
       "4    4\n",
       "Name: cons_farm, dtype: int64"
      ]
     },
     "execution_count": 6,
     "metadata": {},
     "output_type": "execute_result"
    }
   ],
   "source": [
    "# is the data complete, in the expected range, and of the expected type?\n",
    "print_column_info(df, 'cons_farm')\n",
    "\n",
    "# quick peek at the relevant column\n",
    "df['cons_farm'].head(5)"
   ]
  },
  {
   "cell_type": "markdown",
   "metadata": {},
   "source": [
    "Yes, the data is complete, and it is an integer ranging from 1 to 5 inclusive as expected."
   ]
  },
  {
   "cell_type": "code",
   "execution_count": 7,
   "metadata": {},
   "outputs": [
    {
     "data": {
      "text/plain": [
       "<AxesSubplot:xlabel='cons_farm', ylabel='Count'>"
      ]
     },
     "execution_count": 7,
     "metadata": {},
     "output_type": "execute_result"
    },
    {
     "data": {
      "image/png": "[encoded data removed]",
      "text/plain": [
       "<Figure size 432x288 with 1 Axes>"
      ]
     },
     "metadata": {},
     "output_type": "display_data"
    }
   ],
   "source": [
    "sns.histplot(data=df, x='cons_farm', bins=5)"
   ]
  },
  {
   "cell_type": "markdown",
   "metadata": {},
   "source": [
    "Most farmers think that climate change will have negative consequences (rating 4) or no consequences (rating 3) for the economic development of their farm.\n",
    "\n",
    "To me, this suggests that farmers are very concerned about climate change consequences on agriculture in their region, and are concerned (but a little bit less!) about climate change consequences on their farm. It could also be that they are worried about non-economic consequences, too, though. Interesting!"
   ]
  },
  {
   "cell_type": "markdown",
   "metadata": {},
   "source": [
    "### Do farmers see changing weather patterns?"
   ]
  },
  {
   "cell_type": "markdown",
   "metadata": {},
   "source": [
    "Quick data exploration - is the data complete, in the expected range, and of the expected type?"
   ]
  },
  {
   "cell_type": "code",
   "execution_count": 8,
   "metadata": {},
   "outputs": [
    {
     "name": "stdout",
     "output_type": "stream",
     "text": [
      "COLUMN percep_hail | Range: 1 to 3 | NAs: 0 | Type: int64\n",
      "COLUMN percep_drought | Range: 1 to 3 | NAs: 0 | Type: int64\n",
      "COLUMN percep_frost | Range: 1 to 3 | NAs: 0 | Type: int64\n",
      "COLUMN percep_heavyrain | Range: 1 to 3 | NAs: 0 | Type: int64\n",
      "COLUMN percep_longrain | Range: 1 to 3 | NAs: 0 | Type: int64\n",
      "COLUMN percep_heat | Range: 1 to 3 | NAs: 0 | Type: int64\n"
     ]
    },
    {
     "data": {
      "text/html": [
       "<div>\n",
       "<style scoped>\n",
       "    .dataframe tbody tr th:only-of-type {\n",
       "        vertical-align: middle;\n",
       "    }\n",
       "\n",
       "    .dataframe tbody tr th {\n",
       "        vertical-align: top;\n",
       "    }\n",
       "\n",
       "    .dataframe thead th {\n",
       "        text-align: right;\n",
       "    }\n",
       "</style>\n",
       "<table border=\"1\" class=\"dataframe\">\n",
       "  <thead>\n",
       "    <tr style=\"text-align: right;\">\n",
       "      <th></th>\n",
       "      <th>percep_hail</th>\n",
       "      <th>percep_drought</th>\n",
       "      <th>percep_frost</th>\n",
       "      <th>percep_heavyrain</th>\n",
       "      <th>percep_longrain</th>\n",
       "      <th>percep_heat</th>\n",
       "    </tr>\n",
       "  </thead>\n",
       "  <tbody>\n",
       "    <tr>\n",
       "      <th>0</th>\n",
       "      <td>2</td>\n",
       "      <td>2</td>\n",
       "      <td>2</td>\n",
       "      <td>1</td>\n",
       "      <td>2</td>\n",
       "      <td>2</td>\n",
       "    </tr>\n",
       "    <tr>\n",
       "      <th>1</th>\n",
       "      <td>3</td>\n",
       "      <td>2</td>\n",
       "      <td>2</td>\n",
       "      <td>3</td>\n",
       "      <td>3</td>\n",
       "      <td>3</td>\n",
       "    </tr>\n",
       "    <tr>\n",
       "      <th>2</th>\n",
       "      <td>2</td>\n",
       "      <td>3</td>\n",
       "      <td>1</td>\n",
       "      <td>1</td>\n",
       "      <td>1</td>\n",
       "      <td>3</td>\n",
       "    </tr>\n",
       "    <tr>\n",
       "      <th>3</th>\n",
       "      <td>2</td>\n",
       "      <td>2</td>\n",
       "      <td>2</td>\n",
       "      <td>2</td>\n",
       "      <td>2</td>\n",
       "      <td>2</td>\n",
       "    </tr>\n",
       "    <tr>\n",
       "      <th>4</th>\n",
       "      <td>2</td>\n",
       "      <td>3</td>\n",
       "      <td>2</td>\n",
       "      <td>2</td>\n",
       "      <td>1</td>\n",
       "      <td>3</td>\n",
       "    </tr>\n",
       "  </tbody>\n",
       "</table>\n",
       "</div>"
      ],
      "text/plain": [
       "   percep_hail  percep_drought  percep_frost  percep_heavyrain  \\\n",
       "0            2               2             2                 1   \n",
       "1            3               2             2                 3   \n",
       "2            2               3             1                 1   \n",
       "3            2               2             2                 2   \n",
       "4            2               3             2                 2   \n",
       "\n",
       "   percep_longrain  percep_heat  \n",
       "0                2            2  \n",
       "1                3            3  \n",
       "2                1            3  \n",
       "3                2            2  \n",
       "4                1            3  "
      ]
     },
     "execution_count": 8,
     "metadata": {},
     "output_type": "execute_result"
    }
   ],
   "source": [
    "# is the data complete, in the expected range, and of the expected type?\n",
    "for col_index in np.arange(33,39):\n",
    "    print_column_info(df, df.columns[col_index])\n",
    "\n",
    "# quick peek at the relevant columns\n",
    "df.iloc[0:5, 33:39]"
   ]
  },
  {
   "cell_type": "markdown",
   "metadata": {},
   "source": [
    "Yes, the data is complete, and all columns are integers ranging from 1 to 3 inclusive as expected."
   ]
  },
  {
   "cell_type": "code",
   "execution_count": 9,
   "metadata": {},
   "outputs": [
    {
     "data": {
      "text/html": [
       "<div>\n",
       "<style scoped>\n",
       "    .dataframe tbody tr th:only-of-type {\n",
       "        vertical-align: middle;\n",
       "    }\n",
       "\n",
       "    .dataframe tbody tr th {\n",
       "        vertical-align: top;\n",
       "    }\n",
       "\n",
       "    .dataframe thead th {\n",
       "        text-align: right;\n",
       "    }\n",
       "</style>\n",
       "<table border=\"1\" class=\"dataframe\">\n",
       "  <thead>\n",
       "    <tr style=\"text-align: right;\">\n",
       "      <th></th>\n",
       "      <th>weather_event</th>\n",
       "      <th>rating</th>\n",
       "    </tr>\n",
       "  </thead>\n",
       "  <tbody>\n",
       "    <tr>\n",
       "      <th>610</th>\n",
       "      <td>heat</td>\n",
       "      <td>2</td>\n",
       "    </tr>\n",
       "    <tr>\n",
       "      <th>145</th>\n",
       "      <td>drought</td>\n",
       "      <td>3</td>\n",
       "    </tr>\n",
       "    <tr>\n",
       "      <th>256</th>\n",
       "      <td>frost</td>\n",
       "      <td>2</td>\n",
       "    </tr>\n",
       "    <tr>\n",
       "      <th>148</th>\n",
       "      <td>drought</td>\n",
       "      <td>2</td>\n",
       "    </tr>\n",
       "    <tr>\n",
       "      <th>255</th>\n",
       "      <td>frost</td>\n",
       "      <td>1</td>\n",
       "    </tr>\n",
       "  </tbody>\n",
       "</table>\n",
       "</div>"
      ],
      "text/plain": [
       "    weather_event  rating\n",
       "610          heat       2\n",
       "145       drought       3\n",
       "256         frost       2\n",
       "148       drought       2\n",
       "255         frost       1"
      ]
     },
     "execution_count": 9,
     "metadata": {},
     "output_type": "execute_result"
    }
   ],
   "source": [
    "# create new dataframe with perception data\n",
    "percep_df = df.iloc[:, 33:39].copy()\n",
    "# reshape from wide to long format\n",
    "percep_df = pd.melt(percep_df, var_name='weather_event', value_name='rating')\n",
    "# rename variables\n",
    "percep_df['weather_event'] = [t[7:] for t in percep_df['weather_event']]\n",
    "# check out result\n",
    "percep_df.sample(5)"
   ]
  },
  {
   "cell_type": "code",
   "execution_count": 10,
   "metadata": {},
   "outputs": [
    {
     "data": {
      "text/plain": [
       "<seaborn.axisgrid.FacetGrid at 0x7fe26edd2a50>"
      ]
     },
     "execution_count": 10,
     "metadata": {},
     "output_type": "execute_result"
    },
    {
     "data": {
      "image/png": "[encoded data removed]",
      "text/plain": [
       "<Figure size 2160x360 with 6 Axes>"
      ]
     },
     "metadata": {},
     "output_type": "display_data"
    }
   ],
   "source": [
    "# visualize pereption for each event\n",
    "sns.displot(percep_df, x='rating', col='weather_event', bins=3)"
   ]
  },
  {
   "cell_type": "markdown",
   "metadata": {},
   "source": [
    "The question reads: How did you perceive the frequency of extreme weather events over the past 10 years on your farm? A rating of 1 indicates no change, 2 indicates increase or decrease, 3 indicates strong increase or strong decrease. It seems that farmers see the strongest changes in drought and heat, and the weakest changes in hail and frost. There aren't any polarizing patterns here, either, where farmers think there is a strong change or no change and few see a moderate change."
   ]
  },
  {
   "cell_type": "markdown",
   "metadata": {},
   "source": [
    "Now, I'll check out farmers' average rating to this group of questions, and see whether farmers are seeing changes in general. I wonder if some farmers think more events are changing than other farmers do. Ill aggregate by the mean to keep the same interpretation - if a farmer has a rating of 1, then they see no change in all events; if a farmer has a rating of 3, then they see strong changes in all events."
   ]
  },
  {
   "cell_type": "code",
   "execution_count": 11,
   "metadata": {},
   "outputs": [
    {
     "name": "stdout",
     "output_type": "stream",
     "text": [
      "COLUMN percep_avg | Range: 1.0 to 3.0 | NAs: 0 | Type: float64\n"
     ]
    },
    {
     "data": {
      "text/plain": [
       "16    1.666667\n",
       "31    2.000000\n",
       "14    1.666667\n",
       "19    1.500000\n",
       "74    2.333333\n",
       "Name: percep_avg, dtype: float64"
      ]
     },
     "execution_count": 11,
     "metadata": {},
     "output_type": "execute_result"
    }
   ],
   "source": [
    "# create perception average column\n",
    "df['percep_avg'] = np.mean(df.iloc[:, 33:39], axis=1)\n",
    "# quick check of the new column\n",
    "print_column_info(df, 'percep_avg')\n",
    "# check out a sample of the data\n",
    "df['percep_avg'].sample(5)"
   ]
  },
  {
   "cell_type": "code",
   "execution_count": 12,
   "metadata": {},
   "outputs": [
    {
     "data": {
      "text/plain": [
       "<AxesSubplot:xlabel='percep_avg', ylabel='Count'>"
      ]
     },
     "execution_count": 12,
     "metadata": {},
     "output_type": "execute_result"
    },
    {
     "data": {
      "image/png": "[encoded data removed]",
      "text/plain": [
       "<Figure size 432x288 with 1 Axes>"
      ]
     },
     "metadata": {},
     "output_type": "display_data"
    }
   ],
   "source": [
    "sns.histplot(data=df, x='percep_avg')"
   ]
  },
  {
   "cell_type": "markdown",
   "metadata": {},
   "source": [
    "It's a fairly normal looking distribution. Most farmers have average ratings around 2 and report an increase or decrease in weather events over the last decade on their farm. Few farmers have average ratings of 1 or 3, reporting no or strong increases in all weather events."
   ]
  }
 ],
 "metadata": {
  "interpreter": {
   "hash": "40d3a090f54c6569ab1632332b64b2c03c39dcf918b08424e98f38b5ae0af88f"
  },
  "kernelspec": {
   "display_name": "Python 3.7.7 64-bit ('base': conda)",
   "language": "python",
   "name": "python3"
  },
  "language_info": {
   "codemirror_mode": {
    "name": "ipython",
    "version": 3
   },
   "file_extension": ".py",
   "mimetype": "text/x-python",
   "name": "python",
   "nbconvert_exporter": "python",
   "pygments_lexer": "ipython3",
   "version": "3.7.7"
  },
  "orig_nbformat": 4
 },
 "nbformat": 4,
 "nbformat_minor": 2
}
