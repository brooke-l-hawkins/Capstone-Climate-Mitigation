{
 "cells": [
  {
   "cell_type": "markdown",
   "metadata": {},
   "source": [
    "# Self Efficacy Visualizations"
   ]
  },
  {
   "cell_type": "markdown",
   "metadata": {},
   "source": [
    "## Set up"
   ]
  },
  {
   "cell_type": "code",
   "execution_count": 1,
   "metadata": {},
   "outputs": [],
   "source": [
    "import numpy as np\n",
    "import pandas as pd\n",
    "import matplotlib.pyplot as plt\n",
    "import seaborn as sns\n",
    "sns.set_theme()"
   ]
  },
  {
   "cell_type": "code",
   "execution_count": 2,
   "metadata": {},
   "outputs": [],
   "source": [
    "def print_column_info(df, col_name):\n",
    "    \"\"\"\n",
    "    Print range, completeness, and data type of column with provided name and dataframe\n",
    "    \"\"\"\n",
    "    print(f'COLUMN {col_name} | Range: {df[col_name].min()} to {df[col_name].max()} | NAs: {df[col_name].isna().sum()} | Type: {df[col_name].dtype}')"
   ]
  },
  {
   "cell_type": "code",
   "execution_count": 3,
   "metadata": {},
   "outputs": [],
   "source": [
    "# load data\n",
    "df = pd.read_csv('../../data/raw/rawdata_new.csv')"
   ]
  },
  {
   "cell_type": "markdown",
   "metadata": {},
   "source": [
    "## Visualizations"
   ]
  },
  {
   "cell_type": "markdown",
   "metadata": {},
   "source": [
    "### Do farmers think they can have a positive and active role in mitigating climate change?"
   ]
  },
  {
   "cell_type": "markdown",
   "metadata": {},
   "source": [
    "Quick data exploration - is the data complete, in the expected range, and of the expected type?"
   ]
  },
  {
   "cell_type": "code",
   "execution_count": 4,
   "metadata": {},
   "outputs": [
    {
     "name": "stdout",
     "output_type": "stream",
     "text": [
      "COLUMN self_reduc | Range: 1 to 5 | NAs: 0 | Type: int64\n",
      "COLUMN self_act | Range: 1 to 5 | NAs: 0 | Type: int64\n",
      "COLUMN self_cap | Range: 1 to 5 | NAs: 0 | Type: int64\n",
      "COLUMN self_conf | Range: 1 to 5 | NAs: 0 | Type: int64\n",
      "COLUMN self_not | Range: 1 to 5 | NAs: 0 | Type: int64\n"
     ]
    },
    {
     "data": {
      "text/html": [
       "<div>\n",
       "<style scoped>\n",
       "    .dataframe tbody tr th:only-of-type {\n",
       "        vertical-align: middle;\n",
       "    }\n",
       "\n",
       "    .dataframe tbody tr th {\n",
       "        vertical-align: top;\n",
       "    }\n",
       "\n",
       "    .dataframe thead th {\n",
       "        text-align: right;\n",
       "    }\n",
       "</style>\n",
       "<table border=\"1\" class=\"dataframe\">\n",
       "  <thead>\n",
       "    <tr style=\"text-align: right;\">\n",
       "      <th></th>\n",
       "      <th>self_reduc</th>\n",
       "      <th>self_act</th>\n",
       "      <th>self_cap</th>\n",
       "      <th>self_conf</th>\n",
       "      <th>self_not</th>\n",
       "    </tr>\n",
       "  </thead>\n",
       "  <tbody>\n",
       "    <tr>\n",
       "      <th>0</th>\n",
       "      <td>1</td>\n",
       "      <td>4</td>\n",
       "      <td>1</td>\n",
       "      <td>1</td>\n",
       "      <td>4</td>\n",
       "    </tr>\n",
       "    <tr>\n",
       "      <th>1</th>\n",
       "      <td>3</td>\n",
       "      <td>3</td>\n",
       "      <td>2</td>\n",
       "      <td>2</td>\n",
       "      <td>2</td>\n",
       "    </tr>\n",
       "    <tr>\n",
       "      <th>2</th>\n",
       "      <td>2</td>\n",
       "      <td>1</td>\n",
       "      <td>2</td>\n",
       "      <td>3</td>\n",
       "      <td>1</td>\n",
       "    </tr>\n",
       "    <tr>\n",
       "      <th>3</th>\n",
       "      <td>3</td>\n",
       "      <td>3</td>\n",
       "      <td>4</td>\n",
       "      <td>4</td>\n",
       "      <td>2</td>\n",
       "    </tr>\n",
       "    <tr>\n",
       "      <th>4</th>\n",
       "      <td>1</td>\n",
       "      <td>2</td>\n",
       "      <td>2</td>\n",
       "      <td>2</td>\n",
       "      <td>2</td>\n",
       "    </tr>\n",
       "  </tbody>\n",
       "</table>\n",
       "</div>"
      ],
      "text/plain": [
       "   self_reduc  self_act  self_cap  self_conf  self_not\n",
       "0           1         4         1          1         4\n",
       "1           3         3         2          2         2\n",
       "2           2         1         2          3         1\n",
       "3           3         3         4          4         2\n",
       "4           1         2         2          2         2"
      ]
     },
     "execution_count": 4,
     "metadata": {},
     "output_type": "execute_result"
    }
   ],
   "source": [
    "# is the data complete, in the expected range, and of the expected type?\n",
    "for col_index in np.arange(40,45):\n",
    "    print_column_info(df, df.columns[col_index])\n",
    "\n",
    "# quick peek at the relevant columns\n",
    "df.iloc[0:5, 40:45]"
   ]
  },
  {
   "cell_type": "markdown",
   "metadata": {},
   "source": [
    "Yes, the data is complete, and all columns are integers ranging from 1 to 5 inclusive as expected."
   ]
  },
  {
   "cell_type": "markdown",
   "metadata": {},
   "source": [
    "One important note about the questions here. They are all asking about the farmer's role in climate change mitigation. The questions are:\n",
    "* `self_reduc`: I can do something about climate change on my farm by reducing greenhouse gases.\n",
    "* `self_act`: My behavior as a farmer influences climate change.\n",
    "* `self_cap`: How successfully I can reduce greenhouse gases on the farm depends mainly on my skills as a farmer.\n",
    "* `self_conf`: I am confident that I can reduce greenhouse gases and at the same time produce successfully.\n",
    "* `self_not`: Climate change is a problem I can not change.\n",
    "A rating of 1 means I do not agree at all. A rating of 5 means I fully agree. A higher score in the first four questions indicates a farmer sees themselves as playing an active and potentially positive role in mitigation. A higher score on the last indicates a farmer sees themselves as unable to play a role in mitigation."
   ]
  },
  {
   "cell_type": "code",
   "execution_count": 5,
   "metadata": {},
   "outputs": [
    {
     "data": {
      "text/html": [
       "<div>\n",
       "<style scoped>\n",
       "    .dataframe tbody tr th:only-of-type {\n",
       "        vertical-align: middle;\n",
       "    }\n",
       "\n",
       "    .dataframe tbody tr th {\n",
       "        vertical-align: top;\n",
       "    }\n",
       "\n",
       "    .dataframe thead th {\n",
       "        text-align: right;\n",
       "    }\n",
       "</style>\n",
       "<table border=\"1\" class=\"dataframe\">\n",
       "  <thead>\n",
       "    <tr style=\"text-align: right;\">\n",
       "      <th></th>\n",
       "      <th>self</th>\n",
       "      <th>rating</th>\n",
       "    </tr>\n",
       "  </thead>\n",
       "  <tbody>\n",
       "    <tr>\n",
       "      <th>54</th>\n",
       "      <td>reduc</td>\n",
       "      <td>1</td>\n",
       "    </tr>\n",
       "    <tr>\n",
       "      <th>473</th>\n",
       "      <td>not</td>\n",
       "      <td>4</td>\n",
       "    </tr>\n",
       "    <tr>\n",
       "      <th>242</th>\n",
       "      <td>cap</td>\n",
       "      <td>2</td>\n",
       "    </tr>\n",
       "    <tr>\n",
       "      <th>201</th>\n",
       "      <td>act</td>\n",
       "      <td>3</td>\n",
       "    </tr>\n",
       "    <tr>\n",
       "      <th>258</th>\n",
       "      <td>cap</td>\n",
       "      <td>4</td>\n",
       "    </tr>\n",
       "  </tbody>\n",
       "</table>\n",
       "</div>"
      ],
      "text/plain": [
       "      self  rating\n",
       "54   reduc       1\n",
       "473    not       4\n",
       "242    cap       2\n",
       "201    act       3\n",
       "258    cap       4"
      ]
     },
     "execution_count": 5,
     "metadata": {},
     "output_type": "execute_result"
    }
   ],
   "source": [
    "# create new dataframe with self efficacy data\n",
    "self_df = df.iloc[:, 40:45].copy()\n",
    "# reshape from wide to long format\n",
    "self_df = pd.melt(self_df, var_name='self', value_name='rating')\n",
    "# rename variables\n",
    "self_df['self'] = [t[5:] for t in self_df['self']]\n",
    "# check out result\n",
    "self_df.sample(5)"
   ]
  },
  {
   "cell_type": "code",
   "execution_count": 6,
   "metadata": {},
   "outputs": [
    {
     "data": {
      "text/plain": [
       "<seaborn.axisgrid.FacetGrid at 0x7fa4c8802b90>"
      ]
     },
     "execution_count": 6,
     "metadata": {},
     "output_type": "execute_result"
    },
    {
     "data": {
      "image/png": "[encoded data removed]",
      "text/plain": [
       "<Figure size 1800x360 with 5 Axes>"
      ]
     },
     "metadata": {},
     "output_type": "display_data"
    }
   ],
   "source": [
    "# visualize pereption for each event\n",
    "sns.displot(self_df, x='rating', col='self', bins=5)"
   ]
  },
  {
   "cell_type": "markdown",
   "metadata": {},
   "source": [
    "Unlike weather observations, farmers are pretty neutral across the self efficacy questions. Most farmers neither agree nor disagree that they can reduce greenhouse gases on their farm to do something about climate change, or that their behavior influences climate change. Most farmers disagree that successful greenhouse gas reduction depends on farming skills. Most farmers are confident they can reduce greenhouse gases while producing successfully. And most farmers agree that climate change is a problem they cannot change.\n",
    "\n",
    "This is a bit sad! Seems like overall, the farmers who completed the survey don't thin they can play a part in climate change mitigation. Based on that alone, I would recommend more positive messaging about mitigation measures.\n",
    "\n",
    "Now, I'll take a look at self efficacy in general, for the first four questions, where higher means more agreement that farmers play a role."
   ]
  },
  {
   "cell_type": "code",
   "execution_count": 7,
   "metadata": {},
   "outputs": [
    {
     "name": "stdout",
     "output_type": "stream",
     "text": [
      "COLUMN self_avg | Range: 1.0 to 4.75 | NAs: 0 | Type: float64\n"
     ]
    },
    {
     "data": {
      "text/plain": [
       "85    2.50\n",
       "46    3.75\n",
       "50    3.25\n",
       "83    1.50\n",
       "59    2.75\n",
       "Name: self_avg, dtype: float64"
      ]
     },
     "execution_count": 7,
     "metadata": {},
     "output_type": "execute_result"
    }
   ],
   "source": [
    "# create self efficacy average column for first four questions\n",
    "df['self_avg'] = np.mean(df.iloc[:, 40:44], axis=1)\n",
    "# quick check of the new column\n",
    "print_column_info(df, 'self_avg')\n",
    "# check out a sample of the data\n",
    "df['self_avg'].sample(5)"
   ]
  },
  {
   "cell_type": "code",
   "execution_count": 8,
   "metadata": {},
   "outputs": [
    {
     "data": {
      "text/plain": [
       "<AxesSubplot:xlabel='self_avg', ylabel='Count'>"
      ]
     },
     "execution_count": 8,
     "metadata": {},
     "output_type": "execute_result"
    },
    {
     "data": {
      "image/png": "[encoded data removed]",
      "text/plain": [
       "<Figure size 432x288 with 1 Axes>"
      ]
     },
     "metadata": {},
     "output_type": "display_data"
    }
   ],
   "source": [
    "sns.histplot(data=df, x='self_avg')"
   ]
  },
  {
   "cell_type": "markdown",
   "metadata": {},
   "source": [
    "In general, farmers are neutral as to whether they play a role in mitigating climate change. To some degree, that's fair. If you asked me about the power of an individual in a global-scale problem, I may not bo oberly optimistic either."
   ]
  },
  {
   "cell_type": "markdown",
   "metadata": {},
   "source": [
    "Is there a relationship between the first four (more active, optimistic framing) and the last (more passive, pessimistic framing) question?"
   ]
  },
  {
   "cell_type": "code",
   "execution_count": 9,
   "metadata": {},
   "outputs": [
    {
     "data": {
      "text/plain": [
       "<seaborn.axisgrid.JointGrid at 0x7fa4cd1933d0>"
      ]
     },
     "execution_count": 9,
     "metadata": {},
     "output_type": "execute_result"
    },
    {
     "data": {
      "image/png": "[encoded data removed]",
      "text/plain": [
       "<Figure size 432x432 with 3 Axes>"
      ]
     },
     "metadata": {},
     "output_type": "display_data"
    }
   ],
   "source": [
    "# plot aggregated first four questions against last question about self efficacy\n",
    "sns.jointplot(data=df, x='self_avg', y='self_not', kind='hex')"
   ]
  },
  {
   "cell_type": "markdown",
   "metadata": {},
   "source": [
    "Not too much of a trend to write home about here. As seen in the faceted histograms earlier, most farmers are netural in their self efficacy, and many agree climate change is not a problem they can solve."
   ]
  }
 ],
 "metadata": {
  "interpreter": {
   "hash": "aee8b7b246df8f9039afb4144a1f6fd8d2ca17a180786b69acc140d282b71a49"
  },
  "kernelspec": {
   "display_name": "Python 3.7.7 64-bit",
   "language": "python",
   "name": "python3"
  },
  "language_info": {
   "codemirror_mode": {
    "name": "ipython",
    "version": 3
   },
   "file_extension": ".py",
   "mimetype": "text/x-python",
   "name": "python",
   "nbconvert_exporter": "python",
   "pygments_lexer": "ipython3",
   "version": "3.7.7"
  },
  "orig_nbformat": 4
 },
 "nbformat": 4,
 "nbformat_minor": 2
}
