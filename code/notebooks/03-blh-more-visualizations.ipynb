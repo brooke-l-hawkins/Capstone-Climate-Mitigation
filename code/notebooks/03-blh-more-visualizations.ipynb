{
 "cells": [
  {
   "cell_type": "markdown",
   "metadata": {},
   "source": [
    "# More visualizations"
   ]
  },
  {
   "cell_type": "markdown",
   "metadata": {},
   "source": [
    "## Set up"
   ]
  },
  {
   "cell_type": "code",
   "execution_count": 1,
   "metadata": {},
   "outputs": [],
   "source": [
    "import numpy as np\n",
    "import pandas as pd\n",
    "import matplotlib.pyplot as plt\n",
    "import seaborn as sns\n",
    "sns.set_theme()"
   ]
  },
  {
   "cell_type": "code",
   "execution_count": 2,
   "metadata": {},
   "outputs": [],
   "source": [
    "def print_column_info(df, col_name):\n",
    "    \"\"\"\n",
    "    Print range, completeness, and data type of column with provided name and dataframe\n",
    "    \"\"\"\n",
    "    print(f'COLUMN {col_name} | Range: {df[col_name].min()} to {df[col_name].max()} | NAs: {df[col_name].isna().sum()} | Type: {df[col_name].dtype}')"
   ]
  },
  {
   "cell_type": "code",
   "execution_count": 3,
   "metadata": {},
   "outputs": [],
   "source": [
    "# load data\n",
    "df = pd.read_csv('../../data/raw/rawdata_new.csv')"
   ]
  },
  {
   "cell_type": "markdown",
   "metadata": {},
   "source": [
    "## Weather visualizations"
   ]
  },
  {
   "cell_type": "markdown",
   "metadata": {},
   "source": [
    "### Do farmers think climate change will have consequences for agriculture in Switzerland?"
   ]
  },
  {
   "cell_type": "markdown",
   "metadata": {},
   "source": [
    "Quick data exploration - is the data complete, in the expected range, and of the expected type?"
   ]
  },
  {
   "cell_type": "code",
   "execution_count": 4,
   "metadata": {},
   "outputs": [
    {
     "name": "stdout",
     "output_type": "stream",
     "text": [
      "COLUMN cons_general | Range: 1 to 5 | NAs: 0 | Type: int64\n"
     ]
    },
    {
     "data": {
      "text/plain": [
       "0    4\n",
       "1    5\n",
       "2    4\n",
       "3    4\n",
       "4    5\n",
       "Name: cons_general, dtype: int64"
      ]
     },
     "execution_count": 4,
     "metadata": {},
     "output_type": "execute_result"
    }
   ],
   "source": [
    "# is the data complete, in the expected range, and of the expected type?\n",
    "print_column_info(df, 'cons_general')\n",
    "\n",
    "# quick peek at the relevant column\n",
    "df['cons_general'].head(5)"
   ]
  },
  {
   "cell_type": "markdown",
   "metadata": {},
   "source": [
    "Yes, the data is complete, and it is an integer ranging from 1 to 5 inclusive as expected."
   ]
  },
  {
   "cell_type": "code",
   "execution_count": 5,
   "metadata": {},
   "outputs": [
    {
     "data": {
      "text/plain": [
       "<AxesSubplot:xlabel='cons_general', ylabel='Count'>"
      ]
     },
     "execution_count": 5,
     "metadata": {},
     "output_type": "execute_result"
    },
    {
     "data": {
      "image/png": "[encoded data removed]",
      "text/plain": [
       "<Figure size 432x288 with 1 Axes>"
      ]
     },
     "metadata": {},
     "output_type": "display_data"
    }
   ],
   "source": [
    "sns.histplot(data=df, x='cons_general', bins=5)"
   ]
  },
  {
   "cell_type": "markdown",
   "metadata": {},
   "source": [
    "Most farmers expecte negative (rating 4) or very negative consequences (rating 5) of climate change on Swiss agriculture.\n",
    "\n",
    "I wonder if that is representative of farmers overall, or if there is a self-selection bias - farmers who are concerned about climate change were more likely to take the survey in the first place."
   ]
  },
  {
   "cell_type": "markdown",
   "metadata": {},
   "source": [
    "### Do farmers think climate change will have consequences for the economic development of their farm?"
   ]
  },
  {
   "cell_type": "markdown",
   "metadata": {},
   "source": [
    "Quick data exploration - is the data complete, in the expected range, and of the expected type?"
   ]
  },
  {
   "cell_type": "code",
   "execution_count": 6,
   "metadata": {},
   "outputs": [
    {
     "name": "stdout",
     "output_type": "stream",
     "text": [
      "COLUMN cons_farm | Range: 1 to 5 | NAs: 0 | Type: int64\n"
     ]
    },
    {
     "data": {
      "text/plain": [
       "0    4\n",
       "1    5\n",
       "2    4\n",
       "3    4\n",
       "4    4\n",
       "Name: cons_farm, dtype: int64"
      ]
     },
     "execution_count": 6,
     "metadata": {},
     "output_type": "execute_result"
    }
   ],
   "source": [
    "# is the data complete, in the expected range, and of the expected type?\n",
    "print_column_info(df, 'cons_farm')\n",
    "\n",
    "# quick peek at the relevant column\n",
    "df['cons_farm'].head(5)"
   ]
  },
  {
   "cell_type": "markdown",
   "metadata": {},
   "source": [
    "Yes, the data is complete, and it is an integer ranging from 1 to 5 inclusive as expected."
   ]
  },
  {
   "cell_type": "code",
   "execution_count": 7,
   "metadata": {},
   "outputs": [
    {
     "data": {
      "text/plain": [
       "<AxesSubplot:xlabel='cons_farm', ylabel='Count'>"
      ]
     },
     "execution_count": 7,
     "metadata": {},
     "output_type": "execute_result"
    },
    {
     "data": {
      "image/png": "[encoded data removed]",
      "text/plain": [
       "<Figure size 432x288 with 1 Axes>"
      ]
     },
     "metadata": {},
     "output_type": "display_data"
    }
   ],
   "source": [
    "sns.histplot(data=df, x='cons_farm', bins=5)"
   ]
  },
  {
   "cell_type": "markdown",
   "metadata": {},
   "source": [
    "Most farmers think that climate change will have negative consequences (rating 4) or no consequences (rating 3) for the economic development of their farm.\n",
    "\n",
    "To me, this suggests that farmers are very concerned about climate change consequences on agriculture in their region, and are concerned (but a little bit less!) about climate change consequences on their farm. It could also be that they are worried about non-economic consequences, too, though. Interesting!"
   ]
  },
  {
   "cell_type": "markdown",
   "metadata": {},
   "source": [
    "### Do farmers see changing weather patterns?"
   ]
  },
  {
   "cell_type": "markdown",
   "metadata": {},
   "source": [
    "Quick data exploration - is the data complete, in the expected range, and of the expected type?"
   ]
  },
  {
   "cell_type": "code",
   "execution_count": 8,
   "metadata": {},
   "outputs": [
    {
     "name": "stdout",
     "output_type": "stream",
     "text": [
      "COLUMN percep_hail | Range: 1 to 3 | NAs: 0 | Type: int64\n",
      "COLUMN percep_drought | Range: 1 to 3 | NAs: 0 | Type: int64\n",
      "COLUMN percep_frost | Range: 1 to 3 | NAs: 0 | Type: int64\n",
      "COLUMN percep_heavyrain | Range: 1 to 3 | NAs: 0 | Type: int64\n",
      "COLUMN percep_longrain | Range: 1 to 3 | NAs: 0 | Type: int64\n",
      "COLUMN percep_heat | Range: 1 to 3 | NAs: 0 | Type: int64\n"
     ]
    },
    {
     "data": {
      "text/html": [
       "<div>\n",
       "<style scoped>\n",
       "    .dataframe tbody tr th:only-of-type {\n",
       "        vertical-align: middle;\n",
       "    }\n",
       "\n",
       "    .dataframe tbody tr th {\n",
       "        vertical-align: top;\n",
       "    }\n",
       "\n",
       "    .dataframe thead th {\n",
       "        text-align: right;\n",
       "    }\n",
       "</style>\n",
       "<table border=\"1\" class=\"dataframe\">\n",
       "  <thead>\n",
       "    <tr style=\"text-align: right;\">\n",
       "      <th></th>\n",
       "      <th>percep_hail</th>\n",
       "      <th>percep_drought</th>\n",
       "      <th>percep_frost</th>\n",
       "      <th>percep_heavyrain</th>\n",
       "      <th>percep_longrain</th>\n",
       "      <th>percep_heat</th>\n",
       "    </tr>\n",
       "  </thead>\n",
       "  <tbody>\n",
       "    <tr>\n",
       "      <th>0</th>\n",
       "      <td>2</td>\n",
       "      <td>2</td>\n",
       "      <td>2</td>\n",
       "      <td>1</td>\n",
       "      <td>2</td>\n",
       "      <td>2</td>\n",
       "    </tr>\n",
       "    <tr>\n",
       "      <th>1</th>\n",
       "      <td>3</td>\n",
       "      <td>2</td>\n",
       "      <td>2</td>\n",
       "      <td>3</td>\n",
       "      <td>3</td>\n",
       "      <td>3</td>\n",
       "    </tr>\n",
       "    <tr>\n",
       "      <th>2</th>\n",
       "      <td>2</td>\n",
       "      <td>3</td>\n",
       "      <td>1</td>\n",
       "      <td>1</td>\n",
       "      <td>1</td>\n",
       "      <td>3</td>\n",
       "    </tr>\n",
       "    <tr>\n",
       "      <th>3</th>\n",
       "      <td>2</td>\n",
       "      <td>2</td>\n",
       "      <td>2</td>\n",
       "      <td>2</td>\n",
       "      <td>2</td>\n",
       "      <td>2</td>\n",
       "    </tr>\n",
       "    <tr>\n",
       "      <th>4</th>\n",
       "      <td>2</td>\n",
       "      <td>3</td>\n",
       "      <td>2</td>\n",
       "      <td>2</td>\n",
       "      <td>1</td>\n",
       "      <td>3</td>\n",
       "    </tr>\n",
       "  </tbody>\n",
       "</table>\n",
       "</div>"
      ],
      "text/plain": [
       "   percep_hail  percep_drought  percep_frost  percep_heavyrain  \\\n",
       "0            2               2             2                 1   \n",
       "1            3               2             2                 3   \n",
       "2            2               3             1                 1   \n",
       "3            2               2             2                 2   \n",
       "4            2               3             2                 2   \n",
       "\n",
       "   percep_longrain  percep_heat  \n",
       "0                2            2  \n",
       "1                3            3  \n",
       "2                1            3  \n",
       "3                2            2  \n",
       "4                1            3  "
      ]
     },
     "execution_count": 8,
     "metadata": {},
     "output_type": "execute_result"
    }
   ],
   "source": [
    "# is the data complete, in the expected range, and of the expected type?\n",
    "for col_index in np.arange(33,39):\n",
    "    print_column_info(df, df.columns[col_index])\n",
    "\n",
    "# quick peek at the relevant columns\n",
    "df.iloc[0:5, 33:39]"
   ]
  },
  {
   "cell_type": "markdown",
   "metadata": {},
   "source": [
    "Yes, the data is complete, and all columns are integers ranging from 1 to 3 inclusive as expected."
   ]
  },
  {
   "cell_type": "code",
   "execution_count": 9,
   "metadata": {},
   "outputs": [
    {
     "data": {
      "text/html": [
       "<div>\n",
       "<style scoped>\n",
       "    .dataframe tbody tr th:only-of-type {\n",
       "        vertical-align: middle;\n",
       "    }\n",
       "\n",
       "    .dataframe tbody tr th {\n",
       "        vertical-align: top;\n",
       "    }\n",
       "\n",
       "    .dataframe thead th {\n",
       "        text-align: right;\n",
       "    }\n",
       "</style>\n",
       "<table border=\"1\" class=\"dataframe\">\n",
       "  <thead>\n",
       "    <tr style=\"text-align: right;\">\n",
       "      <th></th>\n",
       "      <th>weather_event</th>\n",
       "      <th>rating</th>\n",
       "    </tr>\n",
       "  </thead>\n",
       "  <tbody>\n",
       "    <tr>\n",
       "      <th>381</th>\n",
       "      <td>heavyrain</td>\n",
       "      <td>3</td>\n",
       "    </tr>\n",
       "    <tr>\n",
       "      <th>369</th>\n",
       "      <td>heavyrain</td>\n",
       "      <td>2</td>\n",
       "    </tr>\n",
       "    <tr>\n",
       "      <th>402</th>\n",
       "      <td>heavyrain</td>\n",
       "      <td>1</td>\n",
       "    </tr>\n",
       "    <tr>\n",
       "      <th>606</th>\n",
       "      <td>heat</td>\n",
       "      <td>3</td>\n",
       "    </tr>\n",
       "    <tr>\n",
       "      <th>88</th>\n",
       "      <td>hail</td>\n",
       "      <td>2</td>\n",
       "    </tr>\n",
       "  </tbody>\n",
       "</table>\n",
       "</div>"
      ],
      "text/plain": [
       "    weather_event  rating\n",
       "381     heavyrain       3\n",
       "369     heavyrain       2\n",
       "402     heavyrain       1\n",
       "606          heat       3\n",
       "88           hail       2"
      ]
     },
     "execution_count": 9,
     "metadata": {},
     "output_type": "execute_result"
    }
   ],
   "source": [
    "# create new dataframe with perception data\n",
    "percep_df = df.iloc[:, 33:39].copy()\n",
    "# reshape from wide to long format\n",
    "percep_df = pd.melt(percep_df, var_name='weather_event', value_name='rating')\n",
    "# rename variables\n",
    "percep_df['weather_event'] = [t[7:] for t in percep_df['weather_event']]\n",
    "# check out result\n",
    "percep_df.sample(5)"
   ]
  },
  {
   "cell_type": "code",
   "execution_count": 10,
   "metadata": {},
   "outputs": [
    {
     "data": {
      "text/plain": [
       "<seaborn.axisgrid.FacetGrid at 0x7fc3a5ece990>"
      ]
     },
     "execution_count": 10,
     "metadata": {},
     "output_type": "execute_result"
    },
    {
     "data": {
      "image/png": "[encoded data removed]",
      "text/plain": [
       "<Figure size 2160x360 with 6 Axes>"
      ]
     },
     "metadata": {},
     "output_type": "display_data"
    }
   ],
   "source": [
    "# visualize pereption for each event\n",
    "sns.displot(percep_df, x='rating', col='weather_event', bins=3)"
   ]
  },
  {
   "cell_type": "markdown",
   "metadata": {},
   "source": [
    "The question reads: How did you perceive the frequency of extreme weather events over the past 10 years on your farm? A rating of 1 indicates no change, 2 indicates increase or decrease, 3 indicates strong increase or strong decrease. It seems that farmers see the strongest changes in drought and heat, and the weakest changes in hail and frost. There aren't any polarizing patterns here, either, where farmers think there is a strong change or no change and few see a moderate change."
   ]
  },
  {
   "cell_type": "markdown",
   "metadata": {},
   "source": [
    "Now, I'll check out farmers' average rating to this group of questions, and see whether farmers are seeing changes in general. I wonder if some farmers think more events are changing than other farmers do. Ill aggregate by the mean to keep the same interpretation - if a farmer has a rating of 1, then they see no change in all events; if a farmer has a rating of 3, then they see strong changes in all events."
   ]
  },
  {
   "cell_type": "code",
   "execution_count": 11,
   "metadata": {},
   "outputs": [
    {
     "name": "stdout",
     "output_type": "stream",
     "text": [
      "COLUMN percep_avg | Range: 1.0 to 3.0 | NAs: 0 | Type: float64\n"
     ]
    },
    {
     "data": {
      "text/plain": [
       "52     1.500000\n",
       "100    1.833333\n",
       "102    1.833333\n",
       "4      2.166667\n",
       "58     1.000000\n",
       "Name: percep_avg, dtype: float64"
      ]
     },
     "execution_count": 11,
     "metadata": {},
     "output_type": "execute_result"
    }
   ],
   "source": [
    "# create perception average column\n",
    "df['percep_avg'] = np.mean(df.iloc[:, 33:39], axis=1)\n",
    "# quick check of the new column\n",
    "print_column_info(df, 'percep_avg')\n",
    "# check out a sample of the data\n",
    "df['percep_avg'].sample(5)"
   ]
  },
  {
   "cell_type": "code",
   "execution_count": 12,
   "metadata": {},
   "outputs": [
    {
     "data": {
      "text/plain": [
       "<AxesSubplot:xlabel='percep_avg', ylabel='Count'>"
      ]
     },
     "execution_count": 12,
     "metadata": {},
     "output_type": "execute_result"
    },
    {
     "data": {
      "image/png": "[encoded data removed]",
      "text/plain": [
       "<Figure size 432x288 with 1 Axes>"
      ]
     },
     "metadata": {},
     "output_type": "display_data"
    }
   ],
   "source": [
    "sns.histplot(data=df, x='percep_avg')"
   ]
  },
  {
   "cell_type": "markdown",
   "metadata": {},
   "source": [
    "It's a fairly normal looking distribution. Most farmers have average ratings around 2 and report an increase or decrease in weather events over the last decade on their farm. Few farmers have average ratings of 1 or 3, reporting no or strong increases in all weather events."
   ]
  },
  {
   "cell_type": "markdown",
   "metadata": {},
   "source": [
    "## Self efficacy visualizations"
   ]
  },
  {
   "cell_type": "markdown",
   "metadata": {},
   "source": [
    "### Do farmers think they can have a positive and active role in mitigating climate change?"
   ]
  },
  {
   "cell_type": "markdown",
   "metadata": {},
   "source": [
    "Quick data exploration - is the data complete, in the expected range, and of the expected type?"
   ]
  },
  {
   "cell_type": "code",
   "execution_count": 13,
   "metadata": {},
   "outputs": [
    {
     "name": "stdout",
     "output_type": "stream",
     "text": [
      "COLUMN self_reduc | Range: 1 to 5 | NAs: 0 | Type: int64\n",
      "COLUMN self_act | Range: 1 to 5 | NAs: 0 | Type: int64\n",
      "COLUMN self_cap | Range: 1 to 5 | NAs: 0 | Type: int64\n",
      "COLUMN self_conf | Range: 1 to 5 | NAs: 0 | Type: int64\n",
      "COLUMN self_not | Range: 1 to 5 | NAs: 0 | Type: int64\n"
     ]
    },
    {
     "data": {
      "text/html": [
       "<div>\n",
       "<style scoped>\n",
       "    .dataframe tbody tr th:only-of-type {\n",
       "        vertical-align: middle;\n",
       "    }\n",
       "\n",
       "    .dataframe tbody tr th {\n",
       "        vertical-align: top;\n",
       "    }\n",
       "\n",
       "    .dataframe thead th {\n",
       "        text-align: right;\n",
       "    }\n",
       "</style>\n",
       "<table border=\"1\" class=\"dataframe\">\n",
       "  <thead>\n",
       "    <tr style=\"text-align: right;\">\n",
       "      <th></th>\n",
       "      <th>self_reduc</th>\n",
       "      <th>self_act</th>\n",
       "      <th>self_cap</th>\n",
       "      <th>self_conf</th>\n",
       "      <th>self_not</th>\n",
       "    </tr>\n",
       "  </thead>\n",
       "  <tbody>\n",
       "    <tr>\n",
       "      <th>0</th>\n",
       "      <td>1</td>\n",
       "      <td>4</td>\n",
       "      <td>1</td>\n",
       "      <td>1</td>\n",
       "      <td>4</td>\n",
       "    </tr>\n",
       "    <tr>\n",
       "      <th>1</th>\n",
       "      <td>3</td>\n",
       "      <td>3</td>\n",
       "      <td>2</td>\n",
       "      <td>2</td>\n",
       "      <td>2</td>\n",
       "    </tr>\n",
       "    <tr>\n",
       "      <th>2</th>\n",
       "      <td>2</td>\n",
       "      <td>1</td>\n",
       "      <td>2</td>\n",
       "      <td>3</td>\n",
       "      <td>1</td>\n",
       "    </tr>\n",
       "    <tr>\n",
       "      <th>3</th>\n",
       "      <td>3</td>\n",
       "      <td>3</td>\n",
       "      <td>4</td>\n",
       "      <td>4</td>\n",
       "      <td>2</td>\n",
       "    </tr>\n",
       "    <tr>\n",
       "      <th>4</th>\n",
       "      <td>1</td>\n",
       "      <td>2</td>\n",
       "      <td>2</td>\n",
       "      <td>2</td>\n",
       "      <td>2</td>\n",
       "    </tr>\n",
       "  </tbody>\n",
       "</table>\n",
       "</div>"
      ],
      "text/plain": [
       "   self_reduc  self_act  self_cap  self_conf  self_not\n",
       "0           1         4         1          1         4\n",
       "1           3         3         2          2         2\n",
       "2           2         1         2          3         1\n",
       "3           3         3         4          4         2\n",
       "4           1         2         2          2         2"
      ]
     },
     "execution_count": 13,
     "metadata": {},
     "output_type": "execute_result"
    }
   ],
   "source": [
    "# is the data complete, in the expected range, and of the expected type?\n",
    "for col_index in np.arange(40,45):\n",
    "    print_column_info(df, df.columns[col_index])\n",
    "\n",
    "# quick peek at the relevant columns\n",
    "df.iloc[0:5, 40:45]"
   ]
  },
  {
   "cell_type": "markdown",
   "metadata": {},
   "source": [
    "Yes, the data is complete, and all columns are integers ranging from 1 to 5 inclusive as expected."
   ]
  },
  {
   "cell_type": "markdown",
   "metadata": {},
   "source": [
    "One important note about the questions here. They are all asking about the farmer's role in climate change mitigation. The questions are:\n",
    "* `self_reduc`: I can do something about climate change on my farm by reducing greenhouse gases.\n",
    "* `self_act`: My behavior as a farmer influences climate change.\n",
    "* `self_cap`: How successfully I can reduce greenhouse gases on the farm depends mainly on my skills as a farmer.\n",
    "* `self_conf`: I am confident that I can reduce greenhouse gases and at the same time produce successfully.\n",
    "* `self_not`: Climate change is a problem I can not change.\n",
    "A rating of 1 means I do not agree at all. A rating of 5 means I fully agree. A higher score in the first four questions indicates a farmer sees themselves as playing an active and potentially positive role in mitigation. A higher score on the last indicates a farmer sees themselves as unable to play a role in mitigation."
   ]
  },
  {
   "cell_type": "code",
   "execution_count": 14,
   "metadata": {},
   "outputs": [
    {
     "data": {
      "text/html": [
       "<div>\n",
       "<style scoped>\n",
       "    .dataframe tbody tr th:only-of-type {\n",
       "        vertical-align: middle;\n",
       "    }\n",
       "\n",
       "    .dataframe tbody tr th {\n",
       "        vertical-align: top;\n",
       "    }\n",
       "\n",
       "    .dataframe thead th {\n",
       "        text-align: right;\n",
       "    }\n",
       "</style>\n",
       "<table border=\"1\" class=\"dataframe\">\n",
       "  <thead>\n",
       "    <tr style=\"text-align: right;\">\n",
       "      <th></th>\n",
       "      <th>self</th>\n",
       "      <th>rating</th>\n",
       "    </tr>\n",
       "  </thead>\n",
       "  <tbody>\n",
       "    <tr>\n",
       "      <th>307</th>\n",
       "      <td>cap</td>\n",
       "      <td>3</td>\n",
       "    </tr>\n",
       "    <tr>\n",
       "      <th>481</th>\n",
       "      <td>not</td>\n",
       "      <td>4</td>\n",
       "    </tr>\n",
       "    <tr>\n",
       "      <th>339</th>\n",
       "      <td>conf</td>\n",
       "      <td>2</td>\n",
       "    </tr>\n",
       "    <tr>\n",
       "      <th>519</th>\n",
       "      <td>not</td>\n",
       "      <td>3</td>\n",
       "    </tr>\n",
       "    <tr>\n",
       "      <th>401</th>\n",
       "      <td>conf</td>\n",
       "      <td>1</td>\n",
       "    </tr>\n",
       "  </tbody>\n",
       "</table>\n",
       "</div>"
      ],
      "text/plain": [
       "     self  rating\n",
       "307   cap       3\n",
       "481   not       4\n",
       "339  conf       2\n",
       "519   not       3\n",
       "401  conf       1"
      ]
     },
     "execution_count": 14,
     "metadata": {},
     "output_type": "execute_result"
    }
   ],
   "source": [
    "# create new dataframe with self efficacy data\n",
    "self_df = df.iloc[:, 40:45].copy()\n",
    "# reshape from wide to long format\n",
    "self_df = pd.melt(self_df, var_name='self', value_name='rating')\n",
    "# rename variables\n",
    "self_df['self'] = [t[5:] for t in self_df['self']]\n",
    "# check out result\n",
    "self_df.sample(5)"
   ]
  },
  {
   "cell_type": "code",
   "execution_count": 15,
   "metadata": {},
   "outputs": [
    {
     "data": {
      "text/plain": [
       "<seaborn.axisgrid.FacetGrid at 0x7fc3a6b56310>"
      ]
     },
     "execution_count": 15,
     "metadata": {},
     "output_type": "execute_result"
    },
    {
     "data": {
      "image/png": "[encoded data removed]",
      "text/plain": [
       "<Figure size 1800x360 with 5 Axes>"
      ]
     },
     "metadata": {},
     "output_type": "display_data"
    }
   ],
   "source": [
    "# visualize pereption for each event\n",
    "sns.displot(self_df, x='rating', col='self', bins=5)"
   ]
  },
  {
   "cell_type": "markdown",
   "metadata": {},
   "source": [
    "Unlike weather observations, farmers are pretty neutral across the self efficacy questions. Most farmers neither agree nor disagree that they can reduce greenhouse gases on their farm to do something about climate change, or that their behavior influences climate change. Most farmers disagree that successful greenhouse gas reduction depends on farming skills. Most farmers are confident they can reduce greenhouse gases while producing successfully. And most farmers agree that climate change is a problem they cannot change.\n",
    "\n",
    "This is a bit sad! Seems like overall, the farmers who completed the survey don't thin they can play a part in climate change mitigation. Based on that alone, I would recommend more positive messaging about mitigation measures.\n",
    "\n",
    "Now, I'll take a look at self efficacy in general, for the first four questions, where higher means more agreement that farmers play a role."
   ]
  },
  {
   "cell_type": "code",
   "execution_count": 16,
   "metadata": {},
   "outputs": [
    {
     "name": "stdout",
     "output_type": "stream",
     "text": [
      "COLUMN self_avg | Range: 1.0 to 4.75 | NAs: 0 | Type: float64\n"
     ]
    },
    {
     "data": {
      "text/plain": [
       "5     2.75\n",
       "69    4.00\n",
       "80    2.75\n",
       "60    3.00\n",
       "62    1.25\n",
       "Name: self_avg, dtype: float64"
      ]
     },
     "execution_count": 16,
     "metadata": {},
     "output_type": "execute_result"
    }
   ],
   "source": [
    "# create self efficacy average column for first four questions\n",
    "df['self_avg'] = np.mean(df.iloc[:, 40:44], axis=1)\n",
    "# quick check of the new column\n",
    "print_column_info(df, 'self_avg')\n",
    "# check out a sample of the data\n",
    "df['self_avg'].sample(5)"
   ]
  },
  {
   "cell_type": "code",
   "execution_count": 17,
   "metadata": {},
   "outputs": [
    {
     "data": {
      "text/plain": [
       "<AxesSubplot:xlabel='self_avg', ylabel='Count'>"
      ]
     },
     "execution_count": 17,
     "metadata": {},
     "output_type": "execute_result"
    },
    {
     "data": {
      "image/png": "[encoded data removed]",
      "text/plain": [
       "<Figure size 432x288 with 1 Axes>"
      ]
     },
     "metadata": {},
     "output_type": "display_data"
    }
   ],
   "source": [
    "sns.histplot(data=df, x='self_avg')"
   ]
  },
  {
   "cell_type": "markdown",
   "metadata": {},
   "source": [
    "In general, farmers are neutral as to whether they play a role in mitigating climate change. To some degree, that's fair. If you asked me about the power of an individual in a global-scale problem, I may not bo oberly optimistic either."
   ]
  },
  {
   "cell_type": "markdown",
   "metadata": {},
   "source": [
    "Is there a relationship between the first four (more active, optimistic framing) and the last (more passive, pessimistic framing) question?"
   ]
  },
  {
   "cell_type": "code",
   "execution_count": 18,
   "metadata": {},
   "outputs": [
    {
     "data": {
      "text/plain": [
       "<seaborn.axisgrid.JointGrid at 0x7fc3a6e75810>"
      ]
     },
     "execution_count": 18,
     "metadata": {},
     "output_type": "execute_result"
    },
    {
     "data": {
      "image/png": "[encoded data removed]",
      "text/plain": [
       "<Figure size 432x432 with 3 Axes>"
      ]
     },
     "metadata": {},
     "output_type": "display_data"
    }
   ],
   "source": [
    "# plot aggregated first four questions against last question about self efficacy\n",
    "sns.jointplot(data=df, x='self_avg', y='self_not', kind='hex')"
   ]
  },
  {
   "cell_type": "markdown",
   "metadata": {},
   "source": [
    "Not too much of a trend to write home about here. As seen in the faceted histograms earlier, most farmers are netural in their self efficacy, and many agree climate change is not a problem they can solve."
   ]
  },
  {
   "cell_type": "markdown",
   "metadata": {},
   "source": [
    "## Connection visualizations"
   ]
  },
  {
   "cell_type": "markdown",
   "metadata": {},
   "source": [
    "One learning I had from the Wikipedia page about the early adoption of innovations was that better connected rural areas are faster to adopt innovations. I'll test this relationship later, but for now, I want to get an idea of how connected the farmers reported being on their survey.\n",
    "\n",
    "I also want to be careful here (and I should have been more careful in my interpretations earlier) - I can't know how many connections farmers actually have from this data, I only know how many they report. And this is towards the end of a rather long survey. As with all the survey information, I'm assuming what farmers report is a reasonably accurate reflection of reality."
   ]
  },
  {
   "cell_type": "markdown",
   "metadata": {},
   "source": [
    "### How many connections do farmers report?"
   ]
  },
  {
   "cell_type": "markdown",
   "metadata": {},
   "source": [
    "Quick data exploration - is the data complete, in the expected range, and of the expected type?"
   ]
  },
  {
   "cell_type": "code",
   "execution_count": 19,
   "metadata": {},
   "outputs": [
    {
     "name": "stdout",
     "output_type": "stream",
     "text": [
      "COLUMN net_name1_imp | Range: 1 to 3 | NAs: 0 | Type: int64\n",
      "COLUMN net_name2_imp | Range: 1.0 to 3.0 | NAs: 22 | Type: float64\n",
      "COLUMN net_name3_imp | Range: 1.0 to 3.0 | NAs: 32 | Type: float64\n",
      "COLUMN net_name4_imp | Range: 1.0 to 3.0 | NAs: 44 | Type: float64\n",
      "COLUMN net_name5_imp | Range: 1.0 to 3.0 | NAs: 57 | Type: float64\n",
      "COLUMN net_name6_imp | Range: 1.0 to 3.0 | NAs: 66 | Type: float64\n",
      "COLUMN net_name7_imp | Range: 1.0 to 3.0 | NAs: 72 | Type: float64\n",
      "COLUMN net_name8_imp | Range: 1.0 to 3.0 | NAs: 77 | Type: float64\n",
      "COLUMN net_name9_imp | Range: 1.0 to 3.0 | NAs: 79 | Type: float64\n",
      "COLUMN net_name10_imp | Range: 1.0 to 3.0 | NAs: 85 | Type: float64\n"
     ]
    }
   ],
   "source": [
    "# find column names related to social importance\n",
    "network_importance_columns = [c for c in df.columns if c[-4:] == '_imp']\n",
    "\n",
    "# quick data exploration - is the data complete, in the expected range, and of the expected type?\n",
    "for c in network_importance_columns: \n",
    "    print_column_info(df, c)"
   ]
  },
  {
   "cell_type": "markdown",
   "metadata": {},
   "source": [
    "Yes, all columns are integers or floats ranging from 1 to 3 inclusive as expected. Unlike previous columns, the data is not complete. As the number of connections increases, the frequency of farmers reporting a connection decreases. All farmers list at least one connection. Only 20 farmers list the maximum of 10 connections."
   ]
  },
  {
   "cell_type": "code",
   "execution_count": 20,
   "metadata": {},
   "outputs": [
    {
     "name": "stdout",
     "output_type": "stream",
     "text": [
      "1     22\n",
      "10    20\n",
      "4     13\n",
      "3     12\n",
      "2     10\n",
      "5      9\n",
      "6      6\n",
      "9      6\n",
      "7      5\n",
      "8      2\n",
      "Name: num_conn, dtype: int64\n"
     ]
    },
    {
     "data": {
      "text/plain": [
       "<AxesSubplot:xlabel='num_conn', ylabel='Count'>"
      ]
     },
     "execution_count": 20,
     "metadata": {},
     "output_type": "execute_result"
    },
    {
     "data": {
      "image/png": "[encoded data removed]",
      "text/plain": [
       "<Figure size 432x288 with 1 Axes>"
      ]
     },
     "metadata": {},
     "output_type": "display_data"
    }
   ],
   "source": [
    "# create a column that counts the number of importance ratings provided\n",
    "df['num_conn'] = df[network_importance_columns].notnull().sum(axis=1)\n",
    "print(df['num_conn'].value_counts())\n",
    "sns.histplot(data=df, x='num_conn', bins=10)"
   ]
  },
  {
   "cell_type": "markdown",
   "metadata": {},
   "source": [
    "There is a bimodal distribution to the number of connections reported. 22 farmers report the minimum number of connections, 1, and 20 farmers report the maximum number of connections, 10."
   ]
  },
  {
   "cell_type": "markdown",
   "metadata": {},
   "source": [
    "### Is there a relationship between the number of connections reported and the time it took to fill out the survey?"
   ]
  },
  {
   "cell_type": "code",
   "execution_count": 21,
   "metadata": {},
   "outputs": [
    {
     "data": {
      "text/plain": [
       "<AxesSubplot:xlabel='num_conn', ylabel='interviewtime'>"
      ]
     },
     "execution_count": 21,
     "metadata": {},
     "output_type": "execute_result"
    },
    {
     "data": {
      "image/png": "[encoded data removed]",
      "text/plain": [
       "<Figure size 432x288 with 1 Axes>"
      ]
     },
     "metadata": {},
     "output_type": "display_data"
    }
   ],
   "source": [
    "# plot number of connections versus interview completion time\n",
    "sns.regplot(data=df, x='num_conn', y='interviewtime')"
   ]
  },
  {
   "cell_type": "markdown",
   "metadata": {},
   "source": [
    "There is a positive relationship here, but there's a range to completion times across all connection counts reported. (I had gotten all excited, as though this question's completion could be a proxy of interviewer effort or overall completeness, but that's a bit of a leap. Some people may just remember or have more connections than others.)"
   ]
  },
  {
   "cell_type": "markdown",
   "metadata": {},
   "source": [
    "### Do farmers have many or few important or not important connections?"
   ]
  },
  {
   "cell_type": "code",
   "execution_count": 40,
   "metadata": {},
   "outputs": [],
   "source": [
    "# create a column that counts the number of importance ratings of 1, 2 and 3\n",
    "df['num_conn_very_imp'] = (df[network_importance_columns] == 1).sum(axis=1)\n",
    "df['num_conn_imp'] = (df[network_importance_columns] == 2).sum(axis=1)\n",
    "df['num_conn_not_imp'] = (df[network_importance_columns] == 3).sum(axis=1)"
   ]
  },
  {
   "cell_type": "code",
   "execution_count": 42,
   "metadata": {},
   "outputs": [
    {
     "data": {
      "text/plain": [
       "<AxesSubplot:xlabel='num_conn_not_imp', ylabel='Count'>"
      ]
     },
     "execution_count": 42,
     "metadata": {},
     "output_type": "execute_result"
    },
    {
     "data": {
      "image/png": "[encoded data removed]",
      "text/plain": [
       "<Figure size 432x288 with 3 Axes>"
      ]
     },
     "metadata": {},
     "output_type": "display_data"
    }
   ],
   "source": [
    "# WIP\n",
    "fig, ax = plt.subplots(1,3)\n",
    "sns.histplot(data=df, x='num_conn_very_imp', ax=ax[0])\n",
    "sns.histplot(data=df, x='num_conn_imp', ax=ax[1])\n",
    "sns.histplot(data=df, x='num_conn_not_imp', ax=ax[2])"
   ]
  },
  {
   "cell_type": "code",
   "execution_count": null,
   "metadata": {},
   "outputs": [],
   "source": []
  }
 ],
 "metadata": {
  "interpreter": {
   "hash": "aee8b7b246df8f9039afb4144a1f6fd8d2ca17a180786b69acc140d282b71a49"
  },
  "kernelspec": {
   "display_name": "Python 3.7.7 64-bit",
   "language": "python",
   "name": "python3"
  },
  "language_info": {
   "codemirror_mode": {
    "name": "ipython",
    "version": 3
   },
   "file_extension": ".py",
   "mimetype": "text/x-python",
   "name": "python",
   "nbconvert_exporter": "python",
   "pygments_lexer": "ipython3",
   "version": "3.7.7"
  },
  "orig_nbformat": 4
 },
 "nbformat": 4,
 "nbformat_minor": 2
}
