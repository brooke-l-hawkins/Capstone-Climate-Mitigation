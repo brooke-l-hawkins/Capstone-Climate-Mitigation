{
 "cells": [
  {
   "cell_type": "markdown",
   "metadata": {},
   "source": [
    "# Data Prep for Explainable Boosting Machine (EBM)"
   ]
  },
  {
   "cell_type": "markdown",
   "metadata": {},
   "source": [
    "## Set Up"
   ]
  },
  {
   "cell_type": "code",
   "execution_count": 1,
   "metadata": {},
   "outputs": [],
   "source": [
    "# load libraries\n",
    "import pandas as pd\n",
    "import numpy as np\n",
    "\n",
    "# load data\n",
    "raw_df = pd.read_csv('../../data/raw/rawdata_new.csv')\n",
    "\n",
    "# create copy of data\n",
    "processed_df = raw_df.copy()"
   ]
  },
  {
   "cell_type": "code",
   "execution_count": 2,
   "metadata": {},
   "outputs": [
    {
     "data": {
      "text/plain": [
       "(105, 227)"
      ]
     },
     "execution_count": 2,
     "metadata": {},
     "output_type": "execute_result"
    }
   ],
   "source": [
    "# quick shape check\n",
    "processed_df.shape"
   ]
  },
  {
   "cell_type": "markdown",
   "metadata": {},
   "source": [
    "## Prep predictors"
   ]
  },
  {
   "cell_type": "code",
   "execution_count": 3,
   "metadata": {},
   "outputs": [
    {
     "name": "stdout",
     "output_type": "stream",
     "text": [
      "Index(['total_agr_land', 'workforce', 'eco_proof', 'organic', 'farmtype',\n",
      "       'age', 'legum_eff', 'conc_eff', 'add_eff', 'lact_eff',\n",
      "       ...\n",
      "       'net_name10_oth', 'net_name2_imp', 'net_name3_imp', 'net_name4_imp',\n",
      "       'net_name5_imp', 'net_name6_imp', 'net_name7_imp', 'net_name8_imp',\n",
      "       'net_name9_imp', 'net_name10_imp'],\n",
      "      dtype='object', length=131)\n"
     ]
    }
   ],
   "source": [
    "# find columns with NA\n",
    "print(processed_df.columns[processed_df.isna().any()])"
   ]
  },
  {
   "cell_type": "code",
   "execution_count": 4,
   "metadata": {},
   "outputs": [],
   "source": [
    "# remove columns with NA\n",
    "processed_df.dropna(axis=1, inplace=True)"
   ]
  },
  {
   "cell_type": "code",
   "execution_count": 5,
   "metadata": {},
   "outputs": [],
   "source": [
    "# drop ID\n",
    "processed_df.drop(['id'], axis=1, inplace=True)"
   ]
  },
  {
   "cell_type": "code",
   "execution_count": 6,
   "metadata": {},
   "outputs": [],
   "source": [
    "# convert date to numeric; use days since March 1, since paper says survey began in March\n",
    "processed_df['date'] = pd.to_datetime(processed_df['date'])\n",
    "processed_df['date_diff'] = (processed_df['date'] - pd.to_datetime('March 1, 2019'))\n",
    "processed_df['days_since_first_survey_completed'] = [d.days for d in processed_df['date_diff']]"
   ]
  },
  {
   "cell_type": "code",
   "execution_count": 7,
   "metadata": {},
   "outputs": [],
   "source": [
    "# drop intermediate date columns\n",
    "processed_df.drop(['date', 'date_diff'], axis=1, inplace=True)"
   ]
  },
  {
   "cell_type": "markdown",
   "metadata": {},
   "source": [
    "## Prep outcome"
   ]
  },
  {
   "cell_type": "code",
   "execution_count": 8,
   "metadata": {},
   "outputs": [],
   "source": [
    "# calculate outcome variable\n",
    "implemented_cols = ['legum', 'conc', 'add', 'lact', 'breed', 'covman', 'comp', 'drag', 'cov', 'plough', 'solar', 'biog', 'ecodr']\n",
    "processed_df['num_implemented'] = (processed_df[implemented_cols] == 1).sum(axis=1)\n",
    "processed_df['num_applicable'] = (processed_df[implemented_cols] != 3).sum(axis=1)\n",
    "processed_df['prop_implemented'] = processed_df['num_implemented'] / processed_df['num_applicable']"
   ]
  },
  {
   "cell_type": "code",
   "execution_count": 9,
   "metadata": {},
   "outputs": [],
   "source": [
    "# remove other columns about implemented measures\n",
    "processed_df.drop(implemented_cols, axis=1, inplace=True)\n",
    "processed_df.drop(['num_implemented', 'num_applicable'], axis=1, inplace=True)"
   ]
  },
  {
   "cell_type": "code",
   "execution_count": 10,
   "metadata": {},
   "outputs": [
    {
     "data": {
      "text/plain": [
       "(105, 83)"
      ]
     },
     "execution_count": 10,
     "metadata": {},
     "output_type": "execute_result"
    }
   ],
   "source": [
    "# quick shape check\n",
    "processed_df.shape"
   ]
  },
  {
   "cell_type": "code",
   "execution_count": 11,
   "metadata": {},
   "outputs": [],
   "source": [
    "# write dataset to CSV\n",
    "processed_df.to_csv('../../data/processed/ebm_data.csv')"
   ]
  },
  {
   "cell_type": "markdown",
   "metadata": {},
   "source": [
    "## Split dataset"
   ]
  },
  {
   "cell_type": "code",
   "execution_count": 12,
   "metadata": {},
   "outputs": [],
   "source": [
    "# load libraries\n",
    "from sklearn.model_selection import train_test_split\n",
    "from sklearn.preprocessing import MinMaxScaler, OrdinalEncoder\n",
    "from sklearn.metrics import r2_score, mean_squared_error\n",
    "\n",
    "# set random seed\n",
    "RANDOM_SEED = 2021"
   ]
  },
  {
   "cell_type": "code",
   "execution_count": 13,
   "metadata": {},
   "outputs": [],
   "source": [
    "# split into predictors and outcome\n",
    "X = processed_df.iloc[:,:-1].to_numpy()\n",
    "y = processed_df.iloc[:,-1].to_numpy()"
   ]
  },
  {
   "cell_type": "code",
   "execution_count": 14,
   "metadata": {},
   "outputs": [],
   "source": [
    "# split into train and test sets\n",
    "X_train, X_test, y_train, y_test = train_test_split(X, y, test_size=0.1, random_state=RANDOM_SEED)"
   ]
  },
  {
   "cell_type": "markdown",
   "metadata": {},
   "source": [
    "## Encode categorical feature"
   ]
  },
  {
   "cell_type": "code",
   "execution_count": 15,
   "metadata": {},
   "outputs": [],
   "source": [
    "# encode categorical variable region at column 22 into numeric\n",
    "encoder = OrdinalEncoder()\n",
    "encoder.fit(X_train[:,22].reshape(-1,1))\n",
    "X_train[:,22] = encoder.transform(X_train[:,22].reshape(-1,1)).reshape(-1)\n",
    "X_test[:,22]  = encoder.transform(X_test[:,22].reshape(-1,1)).reshape(-1)"
   ]
  },
  {
   "cell_type": "markdown",
   "metadata": {},
   "source": [
    "## Normalize all features"
   ]
  },
  {
   "cell_type": "code",
   "execution_count": 16,
   "metadata": {},
   "outputs": [],
   "source": [
    "# normalize features\n",
    "normalizer = MinMaxScaler()\n",
    "normalizer.fit(X_train)\n",
    "X_train_norm = X_train #normalizer.transform(X_train)\n",
    "X_test_norm  = X_test #normalizer.transform(X_test)"
   ]
  },
  {
   "cell_type": "code",
   "execution_count": 17,
   "metadata": {},
   "outputs": [],
   "source": [
    "# add feature names back to X after splitting, encoding, and normalizing data\n",
    "X_train_norm = pd.DataFrame(X_train_norm, columns = processed_df.columns[:-1])\n",
    "X_test_norm  = pd.DataFrame(X_test_norm, columns = processed_df.columns[:-1])"
   ]
  },
  {
   "cell_type": "markdown",
   "metadata": {},
   "source": [
    "## Train regressor"
   ]
  },
  {
   "cell_type": "code",
   "execution_count": 18,
   "metadata": {},
   "outputs": [],
   "source": [
    "from interpret.glassbox import ExplainableBoostingRegressor\n",
    "from interpret import show\n",
    "import seaborn as sns"
   ]
  },
  {
   "cell_type": "code",
   "execution_count": 19,
   "metadata": {},
   "outputs": [
    {
     "data": {
      "text/plain": [
       "ExplainableBoostingRegressor(feature_names=['trees', 'arable_land', 'ley',\n",
       "                                            'perm_grass', 'perm_crops',\n",
       "                                            'prot_cult', 'add_agr_land',\n",
       "                                            'oth_land', 'qual_landscape',\n",
       "                                            'spec_crops', 'grapes',\n",
       "                                            'vegetables', 'fruits',\n",
       "                                            'oth_spec_crops', 'animal_unit',\n",
       "                                            'cattle_animal_unit', 'dairy_cows',\n",
       "                                            'suckler_cows', 'hor_shee_goa',\n",
       "                                            'pigs_poultry', 'pigs', 'poultry',\n",
       "                                            'region', 'educ', 'cons_gene...\n",
       "                                            'continuous', 'continuous',\n",
       "                                            'continuous', 'continuous',\n",
       "                                            'categorical', 'continuous',\n",
       "                                            'continuous', 'continuous',\n",
       "                                            'continuous', 'continuous',\n",
       "                                            'continuous', 'continuous',\n",
       "                                            'continuous', 'continuous',\n",
       "                                            'continuous', 'continuous',\n",
       "                                            'continuous', 'continuous',\n",
       "                                            'continuous', 'continuous',\n",
       "                                            'continuous', 'continuous',\n",
       "                                            'continuous', 'continuous',\n",
       "                                            'continuous', 'continuous', ...],\n",
       "                             random_state=2021)"
      ]
     },
     "execution_count": 19,
     "metadata": {},
     "output_type": "execute_result"
    }
   ],
   "source": [
    "# train regressor\n",
    "ebm = ExplainableBoostingRegressor(random_state=RANDOM_SEED)\n",
    "ebm.fit(X_train_norm, y_train)"
   ]
  },
  {
   "cell_type": "code",
   "execution_count": 20,
   "metadata": {},
   "outputs": [],
   "source": [
    "# get predictions for training and test set\n",
    "y_train_pred = ebm.predict(X_train_norm)\n",
    "y_test_pred  = ebm.predict(X_test_norm)"
   ]
  },
  {
   "cell_type": "code",
   "execution_count": 21,
   "metadata": {},
   "outputs": [
    {
     "data": {
      "text/plain": [
       "<AxesSubplot:xlabel='actual', ylabel='predictions'>"
      ]
     },
     "execution_count": 21,
     "metadata": {},
     "output_type": "execute_result"
    },
    {
     "data": {
      "image/png": "[encoded data removed]",
      "text/plain": [
       "<Figure size 432x288 with 1 Axes>"
      ]
     },
     "metadata": {
      "needs_background": "light"
     },
     "output_type": "display_data"
    }
   ],
   "source": [
    "# plot predictions vs. actual for training set\n",
    "sns.scatterplot(\n",
    "    data=pd.DataFrame({'actual':y_train, 'predictions':y_train_pred}),\n",
    "    x='actual',\n",
    "    y='predictions')"
   ]
  },
  {
   "cell_type": "code",
   "execution_count": 22,
   "metadata": {},
   "outputs": [
    {
     "data": {
      "text/plain": [
       "<AxesSubplot:xlabel='actual', ylabel='predictions'>"
      ]
     },
     "execution_count": 22,
     "metadata": {},
     "output_type": "execute_result"
    },
    {
     "data": {
      "image/png": "[encoded data removed]",
      "text/plain": [
       "<Figure size 432x288 with 1 Axes>"
      ]
     },
     "metadata": {
      "needs_background": "light"
     },
     "output_type": "display_data"
    }
   ],
   "source": [
    "# plot predictions vs. actual for test set\n",
    "sns.scatterplot(\n",
    "    data=pd.DataFrame({'actual':y_test, 'predictions':y_test_pred}),\n",
    "    x='actual',\n",
    "    y='predictions')"
   ]
  },
  {
   "cell_type": "code",
   "execution_count": 23,
   "metadata": {},
   "outputs": [
    {
     "name": "stdout",
     "output_type": "stream",
     "text": [
      "train: 0.9391913013794313 | test: 0.20569869329331658\n"
     ]
    }
   ],
   "source": [
    "# evaluate R-squared for training and test data\n",
    "r2_train = r2_score(y_train, y_train_pred)\n",
    "r2_test  = r2_score(y_test,  y_test_pred)\n",
    "print(f'train: {r2_train} | test: {r2_test}')"
   ]
  },
  {
   "cell_type": "code",
   "execution_count": 24,
   "metadata": {},
   "outputs": [
    {
     "name": "stdout",
     "output_type": "stream",
     "text": [
      "train: 0.001960972480184802 | test: 0.028597357393952163\n"
     ]
    }
   ],
   "source": [
    "# evaluate mean squared error for training and test data\n",
    "mse_train = mean_squared_error(y_train, y_train_pred)\n",
    "mse_test  = mean_squared_error(y_test,  y_test_pred)\n",
    "print(f'train: {mse_train} | test: {mse_test}')"
   ]
  },
  {
   "cell_type": "code",
   "execution_count": 25,
   "metadata": {},
   "outputs": [
    {
     "name": "stderr",
     "output_type": "stream",
     "text": [
      "/opt/anaconda3/lib/python3.7/site-packages/interpret/visual/udash.py:5: UserWarning: \n",
      "The dash_html_components package is deprecated. Please replace\n",
      "`import dash_html_components as html` with `from dash import html`\n",
      "  import dash_html_components as html\n",
      "/opt/anaconda3/lib/python3.7/site-packages/interpret/visual/udash.py:6: UserWarning: \n",
      "The dash_core_components package is deprecated. Please replace\n",
      "`import dash_core_components as dcc` with `from dash import dcc`\n",
      "  import dash_core_components as dcc\n",
      "/opt/anaconda3/lib/python3.7/site-packages/interpret/visual/udash.py:7: UserWarning: \n",
      "The dash_table package is deprecated. Please replace\n",
      "`import dash_table` with `from dash import dash_table`\n",
      "\n",
      "Also, if you're using any of the table format helpers (e.g. Group), replace \n",
      "`from dash_table.Format import Group` with \n",
      "`from dash.dash_table.Format import Group`\n",
      "  import dash_table as dt\n"
     ]
    },
    {
     "data": {
      "text/html": [
       "<!-- http://127.0.0.1:7001/140610907341776/ -->\n",
       "<iframe src=\"http://127.0.0.1:7001/140610907341776/\" width=100% height=800 frameBorder=\"0\"></iframe>"
      ]
     },
     "metadata": {},
     "output_type": "display_data"
    }
   ],
   "source": [
    "# explore feature importance\n",
    "ebm_global = ebm.explain_global()\n",
    "show(ebm_global)"
   ]
  }
 ],
 "metadata": {
  "interpreter": {
   "hash": "aee8b7b246df8f9039afb4144a1f6fd8d2ca17a180786b69acc140d282b71a49"
  },
  "kernelspec": {
   "display_name": "Python 3.7.7 64-bit",
   "language": "python",
   "name": "python3"
  },
  "language_info": {
   "codemirror_mode": {
    "name": "ipython",
    "version": 3
   },
   "file_extension": ".py",
   "mimetype": "text/x-python",
   "name": "python",
   "nbconvert_exporter": "python",
   "pygments_lexer": "ipython3",
   "version": "3.7.7"
  },
  "orig_nbformat": 4
 },
 "nbformat": 4,
 "nbformat_minor": 2
}
