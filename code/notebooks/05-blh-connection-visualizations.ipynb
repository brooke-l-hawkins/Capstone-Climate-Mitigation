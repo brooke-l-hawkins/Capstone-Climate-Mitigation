{
 "cells": [
  {
   "cell_type": "markdown",
   "metadata": {},
   "source": [
    "# Connection Visualizations"
   ]
  },
  {
   "cell_type": "markdown",
   "metadata": {},
   "source": [
    "## Set up"
   ]
  },
  {
   "cell_type": "code",
   "execution_count": 1,
   "metadata": {},
   "outputs": [],
   "source": [
    "import numpy as np\n",
    "import pandas as pd\n",
    "import matplotlib.pyplot as plt\n",
    "import seaborn as sns\n",
    "sns.set_theme()"
   ]
  },
  {
   "cell_type": "code",
   "execution_count": 2,
   "metadata": {},
   "outputs": [],
   "source": [
    "def print_column_info(df, col_name):\n",
    "    \"\"\"\n",
    "    Print range, completeness, and data type of column with provided name and dataframe\n",
    "    \"\"\"\n",
    "    print(f'COLUMN {col_name} | Range: {df[col_name].min()} to {df[col_name].max()} | NAs: {df[col_name].isna().sum()} | Type: {df[col_name].dtype}')"
   ]
  },
  {
   "cell_type": "code",
   "execution_count": 3,
   "metadata": {},
   "outputs": [],
   "source": [
    "# load data\n",
    "df = pd.read_csv('../../data/raw/rawdata_new.csv')"
   ]
  },
  {
   "cell_type": "markdown",
   "metadata": {},
   "source": [
    "## Visualizations"
   ]
  },
  {
   "cell_type": "markdown",
   "metadata": {},
   "source": [
    "One learning I had from the Wikipedia page about the early adoption of innovations was that better connected rural areas are faster to adopt innovations. I'll test this relationship later, but for now, I want to get an idea of how connected the farmers reported being on their survey.\n",
    "\n",
    "I also want to be careful here (and I should have been more careful in my interpretations earlier) - I can't know how many connections farmers actually have from this data, I only know how many they report. And this is towards the end of a rather long survey. As with all the survey information, I'm assuming what farmers report is a reasonably accurate reflection of reality."
   ]
  },
  {
   "cell_type": "markdown",
   "metadata": {},
   "source": [
    "### How many connections do farmers report?"
   ]
  },
  {
   "cell_type": "markdown",
   "metadata": {},
   "source": [
    "Quick data exploration - is the data complete, in the expected range, and of the expected type?"
   ]
  },
  {
   "cell_type": "code",
   "execution_count": 4,
   "metadata": {},
   "outputs": [
    {
     "name": "stdout",
     "output_type": "stream",
     "text": [
      "COLUMN net_name1_imp | Range: 1 to 3 | NAs: 0 | Type: int64\n",
      "COLUMN net_name2_imp | Range: 1.0 to 3.0 | NAs: 22 | Type: float64\n",
      "COLUMN net_name3_imp | Range: 1.0 to 3.0 | NAs: 32 | Type: float64\n",
      "COLUMN net_name4_imp | Range: 1.0 to 3.0 | NAs: 44 | Type: float64\n",
      "COLUMN net_name5_imp | Range: 1.0 to 3.0 | NAs: 57 | Type: float64\n",
      "COLUMN net_name6_imp | Range: 1.0 to 3.0 | NAs: 66 | Type: float64\n",
      "COLUMN net_name7_imp | Range: 1.0 to 3.0 | NAs: 72 | Type: float64\n",
      "COLUMN net_name8_imp | Range: 1.0 to 3.0 | NAs: 77 | Type: float64\n",
      "COLUMN net_name9_imp | Range: 1.0 to 3.0 | NAs: 79 | Type: float64\n",
      "COLUMN net_name10_imp | Range: 1.0 to 3.0 | NAs: 85 | Type: float64\n"
     ]
    }
   ],
   "source": [
    "# find column names related to social importance\n",
    "network_importance_columns = [c for c in df.columns if c[-4:] == '_imp']\n",
    "\n",
    "# quick data exploration - is the data complete, in the expected range, and of the expected type?\n",
    "for c in network_importance_columns: \n",
    "    print_column_info(df, c)"
   ]
  },
  {
   "cell_type": "markdown",
   "metadata": {},
   "source": [
    "Yes, all columns are integers or floats ranging from 1 to 3 inclusive as expected. Unlike previous columns, the data is not complete. As the number of connections increases, the frequency of farmers reporting a connection decreases. All farmers list at least one connection. Only 20 farmers list the maximum of 10 connections."
   ]
  },
  {
   "cell_type": "code",
   "execution_count": 5,
   "metadata": {},
   "outputs": [
    {
     "name": "stdout",
     "output_type": "stream",
     "text": [
      "1     22\n",
      "10    20\n",
      "4     13\n",
      "3     12\n",
      "2     10\n",
      "5      9\n",
      "6      6\n",
      "9      6\n",
      "7      5\n",
      "8      2\n",
      "Name: num_conn, dtype: int64\n"
     ]
    },
    {
     "data": {
      "text/plain": [
       "<AxesSubplot:xlabel='num_conn', ylabel='Count'>"
      ]
     },
     "execution_count": 5,
     "metadata": {},
     "output_type": "execute_result"
    },
    {
     "data": {
      "image/png": "[encoded data removed]",
      "text/plain": [
       "<Figure size 432x288 with 1 Axes>"
      ]
     },
     "metadata": {},
     "output_type": "display_data"
    }
   ],
   "source": [
    "# create a column that counts the number of importance ratings provided\n",
    "df['num_conn'] = df[network_importance_columns].notnull().sum(axis=1)\n",
    "print(df['num_conn'].value_counts())\n",
    "sns.histplot(data=df, x='num_conn', bins=10)"
   ]
  },
  {
   "cell_type": "markdown",
   "metadata": {},
   "source": [
    "There is a bimodal distribution to the number of connections reported. 22 farmers report the minimum number of connections, 1, and 20 farmers report the maximum number of connections, 10."
   ]
  },
  {
   "cell_type": "markdown",
   "metadata": {},
   "source": [
    "### Is there a relationship between the number of connections reported and the time it took to fill out the survey?"
   ]
  },
  {
   "cell_type": "code",
   "execution_count": 6,
   "metadata": {},
   "outputs": [
    {
     "data": {
      "text/plain": [
       "<AxesSubplot:xlabel='num_conn', ylabel='interviewtime'>"
      ]
     },
     "execution_count": 6,
     "metadata": {},
     "output_type": "execute_result"
    },
    {
     "data": {
      "image/png": "[encoded data removed]",
      "text/plain": [
       "<Figure size 432x288 with 1 Axes>"
      ]
     },
     "metadata": {},
     "output_type": "display_data"
    }
   ],
   "source": [
    "# plot number of connections versus interview completion time\n",
    "sns.regplot(data=df, x='num_conn', y='interviewtime')"
   ]
  },
  {
   "cell_type": "markdown",
   "metadata": {},
   "source": [
    "There is a positive relationship here, but there's a range to completion times across all connection counts reported. (I had gotten all excited, as though this question's completion could be a proxy of interviewer effort or overall completeness, but that's a bit of a leap. Some people may just remember or have more connections than others.)"
   ]
  },
  {
   "cell_type": "markdown",
   "metadata": {},
   "source": [
    "### Do farmers have many or few important or not important connections?"
   ]
  },
  {
   "cell_type": "code",
   "execution_count": 7,
   "metadata": {},
   "outputs": [],
   "source": [
    "# create a column that counts the number of importance ratings of 1, 2 and 3\n",
    "df['num_conn_very_imp'] = (df[network_importance_columns] == 1).sum(axis=1)\n",
    "df['num_conn_imp'] = (df[network_importance_columns] == 2).sum(axis=1)\n",
    "df['num_conn_not_imp'] = (df[network_importance_columns] == 3).sum(axis=1)"
   ]
  },
  {
   "cell_type": "code",
   "execution_count": 8,
   "metadata": {},
   "outputs": [
    {
     "data": {
      "text/plain": [
       "<AxesSubplot:xlabel='num_conn_not_imp', ylabel='Count'>"
      ]
     },
     "execution_count": 8,
     "metadata": {},
     "output_type": "execute_result"
    },
    {
     "data": {
      "image/png": "[encoded data removed]",
      "text/plain": [
       "<Figure size 432x288 with 3 Axes>"
      ]
     },
     "metadata": {},
     "output_type": "display_data"
    }
   ],
   "source": [
    "# WIP\n",
    "fig, ax = plt.subplots(1,3)\n",
    "sns.histplot(data=df, x='num_conn_very_imp', ax=ax[0])\n",
    "sns.histplot(data=df, x='num_conn_imp', ax=ax[1])\n",
    "sns.histplot(data=df, x='num_conn_not_imp', ax=ax[2])"
   ]
  },
  {
   "cell_type": "code",
   "execution_count": null,
   "metadata": {},
   "outputs": [],
   "source": []
  }
 ],
 "metadata": {
  "interpreter": {
   "hash": "40d3a090f54c6569ab1632332b64b2c03c39dcf918b08424e98f38b5ae0af88f"
  },
  "kernelspec": {
   "display_name": "Python 3.7.7 64-bit ('base': conda)",
   "language": "python",
   "name": "python3"
  },
  "language_info": {
   "codemirror_mode": {
    "name": "ipython",
    "version": 3
   },
   "file_extension": ".py",
   "mimetype": "text/x-python",
   "name": "python",
   "nbconvert_exporter": "python",
   "pygments_lexer": "ipython3",
   "version": "3.7.7"
  },
  "orig_nbformat": 4
 },
 "nbformat": 4,
 "nbformat_minor": 2
}
