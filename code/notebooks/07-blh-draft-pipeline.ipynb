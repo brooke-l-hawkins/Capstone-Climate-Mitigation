{
 "cells": [
  {
   "cell_type": "markdown",
   "metadata": {},
   "source": [
    "# Draft Pipeline"
   ]
  },
  {
   "cell_type": "markdown",
   "metadata": {},
   "source": [
    "## Set Up"
   ]
  },
  {
   "cell_type": "code",
   "execution_count": 1,
   "metadata": {},
   "outputs": [],
   "source": [
    "# load libraries\n",
    "import numpy as np\n",
    "import pandas as pd\n",
    "import statsmodels.api as sm\n",
    "from stargazer.stargazer import Stargazer\n",
    "\n",
    "# load data\n",
    "raw_df = pd.read_csv('../../data/raw/rawdata_new.csv')\n",
    "\n",
    "# create copy of raw data\n",
    "processed_df = raw_df.copy()"
   ]
  },
  {
   "cell_type": "markdown",
   "metadata": {},
   "source": [
    "## Data Prep"
   ]
  },
  {
   "cell_type": "markdown",
   "metadata": {},
   "source": [
    "### Add predictors"
   ]
  },
  {
   "cell_type": "code",
   "execution_count": 2,
   "metadata": {},
   "outputs": [],
   "source": [
    "# environment minded\n",
    "environment_minded_cols = ['GHG_goal', 'env_goal', 'biodiv_goal']\n",
    "processed_df['environment_minded'] = processed_df[environment_minded_cols].mean(axis=1)"
   ]
  },
  {
   "cell_type": "code",
   "execution_count": 3,
   "metadata": {},
   "outputs": [],
   "source": [
    "# perceive weather changes\n",
    "perceive_weather_cols = ['percep_hail', 'percep_drought', 'percep_frost', 'percep_heavyrain', 'percep_longrain', 'percep_heat']\n",
    "processed_df['perceive_weather_change'] = processed_df[perceive_weather_cols].mean(axis=1)"
   ]
  },
  {
   "cell_type": "code",
   "execution_count": 4,
   "metadata": {},
   "outputs": [],
   "source": [
    "# anticipate negative consequences\n",
    "anticipate_negative_cols = ['cons_general', 'cons_farm']\n",
    "processed_df['anticipate_negative_consequences'] = processed_df[anticipate_negative_cols].mean(axis=1)"
   ]
  },
  {
   "cell_type": "code",
   "execution_count": 5,
   "metadata": {},
   "outputs": [],
   "source": [
    "# capable implement\n",
    "capable_cols = ['self_reduc', 'self_act', 'self_cap', 'self_conf', 'self_not']\n",
    "processed_df['capable_implement'] = processed_df[capable_cols].mean(axis=1)"
   ]
  },
  {
   "cell_type": "code",
   "execution_count": 6,
   "metadata": {},
   "outputs": [],
   "source": [
    "# social connectedness\n",
    "social_cols = ['net_name1_imp', 'net_name2_imp', 'net_name3_imp', 'net_name4_imp', 'net_name5_imp', 'net_name6_imp', 'net_name7_imp', 'net_name8_imp', 'net_name9_imp', 'net_name10_imp']\n",
    "processed_df['social_connectedness'] = processed_df[social_cols].mean(axis=1)"
   ]
  },
  {
   "cell_type": "code",
   "execution_count": 7,
   "metadata": {},
   "outputs": [],
   "source": [
    "# think measures effective\n",
    "\n",
    "# create columns that include effectiveness ratings only for applicable mitigations\n",
    "measure_cols = ['legum', 'conc', 'add', 'lact', 'breed', 'covman', 'comp', 'drag', 'cov', 'plough', 'solar', 'biog', 'ecodr']\n",
    "for measure in measure_cols:\n",
    "    measure_eff = measure + '_eff' # effective\n",
    "    measure_app = measure + '_app' # applicable\n",
    "    measure_eff_app = measure + '_eff_app' # effective and applicable\n",
    "    processed_df[measure_app] = [np.NAN if x == 3 else 1 for x in processed_df[measure]]\n",
    "    processed_df[measure_eff_app] = processed_df[measure_eff] * processed_df[measure_app]\n",
    "\n",
    "# take average of effectiveness ratings\n",
    "measures_eff_app_cols = [c + '_eff_app' for c in measure_cols]\n",
    "processed_df['think_measures_effective'] = processed_df[measures_eff_app_cols].mean(axis=1)\n",
    "\n",
    "# find record with NAN, change to NA to average rating across farms\n",
    "nan_row = np.where(processed_df['think_measures_effective'].isna())[0][0]\n",
    "nan_col = np.where(processed_df.columns == 'think_measures_effective')[0][0]\n",
    "processed_df.iloc[nan_row, nan_col] = processed_df['think_measures_effective'].mean()"
   ]
  },
  {
   "cell_type": "markdown",
   "metadata": {},
   "source": [
    "### Add outcome variable"
   ]
  },
  {
   "cell_type": "code",
   "execution_count": 8,
   "metadata": {},
   "outputs": [],
   "source": [
    "# measures implemented\n",
    "\n",
    "# calculate proportion of applicable measures implemented\n",
    "implemented_cols = ['legum', 'conc', 'add', 'lact', 'breed', 'covman', 'comp', 'drag', 'cov', 'plough', 'solar', 'biog', 'ecodr']\n",
    "processed_df['num_implemented'] = (processed_df[implemented_cols] == 1).sum(axis=1)\n",
    "processed_df['num_applicable'] = (processed_df[implemented_cols] != 3).sum(axis=1)\n",
    "processed_df['prop_implemented'] = processed_df['num_implemented'] / processed_df['num_applicable']"
   ]
  },
  {
   "cell_type": "markdown",
   "metadata": {},
   "source": [
    "## Model Fit"
   ]
  },
  {
   "cell_type": "code",
   "execution_count": 9,
   "metadata": {},
   "outputs": [],
   "source": [
    "Y = processed_df['prop_implemented']\n",
    "X = processed_df[['environment_minded', 'perceive_weather_change', 'anticipate_negative_consequences', 'capable_implement', 'think_measures_effective', 'social_connectedness']]\n",
    "X = sm.add_constant(X)\n",
    "model = sm.OLS(Y, X)\n",
    "results = model.fit()"
   ]
  },
  {
   "cell_type": "markdown",
   "metadata": {},
   "source": [
    "## Metrics and Visualizations"
   ]
  },
  {
   "cell_type": "code",
   "execution_count": 12,
   "metadata": {},
   "outputs": [
    {
     "data": {
      "text/html": [
       "<table style=\"text-align:center\"><tr><td colspan=\"2\" style=\"border-bottom: 1px solid black\"></td></tr><tr><td style=\"text-align:left\"></td><td colspan=\"1\"><em>Dependent variable:prop_implemented</em></td></tr><tr><td style=\"text-align:left\"></td><tr><td style=\"text-align:left\"></td><td>(1)</td></tr><tr><td colspan=\"2\" style=\"border-bottom: 1px solid black\"></td></tr><tr><td style=\"text-align:left\">anticipate_negative_consequences</td><td>-0.005<sup></sup></td></tr><tr><td style=\"text-align:left\"></td><td>(0.021)</td></tr><tr><td style=\"text-align:left\">capable_implement</td><td>0.052<sup>**</sup></td></tr><tr><td style=\"text-align:left\"></td><td>(0.025)</td></tr><tr><td style=\"text-align:left\">const</td><td>0.172<sup></sup></td></tr><tr><td style=\"text-align:left\"></td><td>(0.152)</td></tr><tr><td style=\"text-align:left\">environment_minded</td><td>0.011<sup></sup></td></tr><tr><td style=\"text-align:left\"></td><td>(0.024)</td></tr><tr><td style=\"text-align:left\">perceive_weather_change</td><td>-0.106<sup>**</sup></td></tr><tr><td style=\"text-align:left\"></td><td>(0.046)</td></tr><tr><td style=\"text-align:left\">social_connectedness</td><td>-0.009<sup></sup></td></tr><tr><td style=\"text-align:left\"></td><td>(0.032)</td></tr><tr><td style=\"text-align:left\">think_measures_effective</td><td>0.072<sup>***</sup></td></tr><tr><td style=\"text-align:left\"></td><td>(0.027)</td></tr><td colspan=\"2\" style=\"border-bottom: 1px solid black\"></td></tr><tr><td style=\"text-align: left\">Observations</td><td>105</td></tr><tr><td style=\"text-align: left\">R<sup>2</sup></td><td>0.259</td></tr><tr><td style=\"text-align: left\">Adjusted R<sup>2</sup></td><td>0.213</td></tr><tr><td style=\"text-align: left\">Residual Std. Error</td><td>0.161 (df=98)</td></tr><tr><td style=\"text-align: left\">F Statistic</td><td>5.701<sup>***</sup> (df=6; 98)</td></tr><tr><td colspan=\"2\" style=\"border-bottom: 1px solid black\"></td></tr><tr><td style=\"text-align: left\">Note:</td>\n",
       " <td colspan=\"1\" style=\"text-align: right\">\n",
       "  <sup>*</sup>p&lt;0.1;\n",
       "  <sup>**</sup>p&lt;0.05;\n",
       "  <sup>***</sup>p&lt;0.01\n",
       " </td></tr></table>"
      ],
      "text/plain": [
       "<stargazer.stargazer.Stargazer at 0x7fe696318190>"
      ]
     },
     "execution_count": 12,
     "metadata": {},
     "output_type": "execute_result"
    }
   ],
   "source": [
    "# view summary table\n",
    "Stargazer([results])"
   ]
  }
 ],
 "metadata": {
  "interpreter": {
   "hash": "40d3a090f54c6569ab1632332b64b2c03c39dcf918b08424e98f38b5ae0af88f"
  },
  "kernelspec": {
   "display_name": "Python 3.7.7 64-bit ('base': conda)",
   "language": "python",
   "name": "python3"
  },
  "language_info": {
   "codemirror_mode": {
    "name": "ipython",
    "version": 3
   },
   "file_extension": ".py",
   "mimetype": "text/x-python",
   "name": "python",
   "nbconvert_exporter": "python",
   "pygments_lexer": "ipython3",
   "version": "3.7.7"
  },
  "orig_nbformat": 4
 },
 "nbformat": 4,
 "nbformat_minor": 2
}
