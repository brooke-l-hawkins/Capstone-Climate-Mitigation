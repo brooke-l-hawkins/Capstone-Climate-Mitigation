{
 "cells": [
  {
   "cell_type": "markdown",
   "metadata": {},
   "source": [
    "## Set Up"
   ]
  },
  {
   "cell_type": "code",
   "execution_count": 1,
   "metadata": {},
   "outputs": [],
   "source": [
    "# load libraries\n",
    "import pandas as pd\n",
    "import matplotlib.pyplot as plt\n",
    "from interpret.glassbox import ExplainableBoostingRegressor\n",
    "from interpret import show\n",
    "import seaborn as sns\n",
    "import watermark"
   ]
  },
  {
   "cell_type": "code",
   "execution_count": 2,
   "metadata": {},
   "outputs": [],
   "source": [
    "# set plotting theme\n",
    "sns.set_theme(style=\"whitegrid\", context=\"paper\")"
   ]
  },
  {
   "cell_type": "code",
   "execution_count": 3,
   "metadata": {},
   "outputs": [],
   "source": [
    "# load raw data\n",
    "raw_df = pd.read_csv('../data/raw/rawdata_new.csv')\n",
    "# create copy of raw data\n",
    "processed_df = raw_df.copy()"
   ]
  },
  {
   "cell_type": "markdown",
   "metadata": {},
   "source": [
    "## Data Prep"
   ]
  },
  {
   "cell_type": "markdown",
   "metadata": {},
   "source": [
    "### Add predictors"
   ]
  },
  {
   "cell_type": "code",
   "execution_count": 4,
   "metadata": {},
   "outputs": [],
   "source": [
    "# remove columns with NA\n",
    "processed_df.dropna(axis=1, inplace=True)\n",
    "\n",
    "# drop ID\n",
    "processed_df.drop(['id'], axis=1, inplace=True)\n",
    "\n",
    "# convert date to numeric; use days since March 1, since paper says survey began in March\n",
    "processed_df['date'] = pd.to_datetime(processed_df['date'])\n",
    "processed_df['date_diff'] = (processed_df['date'] - pd.to_datetime('March 1, 2019'))\n",
    "processed_df['days_since_first_survey_completed'] = [d.days for d in processed_df['date_diff']]\n",
    "\n",
    "# drop intermediate date columns\n",
    "processed_df.drop(['date', 'date_diff'], axis=1, inplace=True)"
   ]
  },
  {
   "cell_type": "markdown",
   "metadata": {},
   "source": [
    "### Add outcome variable"
   ]
  },
  {
   "cell_type": "code",
   "execution_count": 5,
   "metadata": {},
   "outputs": [],
   "source": [
    "# calculate outcome variable\n",
    "implemented_cols = ['legum', 'conc', 'add', 'lact', 'breed', 'covman', 'comp', 'drag', 'cov', 'plough', 'solar', 'biog', 'ecodr']\n",
    "processed_df['num_implemented'] = (processed_df[implemented_cols] == 1).sum(axis=1)\n",
    "processed_df['num_applicable'] = (processed_df[implemented_cols] != 3).sum(axis=1)\n",
    "processed_df['prop_implemented'] = processed_df['num_implemented'] / processed_df['num_applicable']"
   ]
  },
  {
   "cell_type": "code",
   "execution_count": 6,
   "metadata": {},
   "outputs": [],
   "source": [
    "# remove other columns about implemented measures\n",
    "processed_df.drop(implemented_cols, axis=1, inplace=True)\n",
    "processed_df.drop(['num_implemented', 'num_applicable'], axis=1, inplace=True)"
   ]
  },
  {
   "cell_type": "markdown",
   "metadata": {},
   "source": [
    "### Write to CSV"
   ]
  },
  {
   "cell_type": "code",
   "execution_count": 7,
   "metadata": {},
   "outputs": [],
   "source": [
    "# write dataset to CSV\n",
    "processed_df.to_csv('../data/processed/ebm_data.csv')"
   ]
  },
  {
   "cell_type": "markdown",
   "metadata": {},
   "source": [
    "## Split dataset"
   ]
  },
  {
   "cell_type": "code",
   "execution_count": 8,
   "metadata": {},
   "outputs": [],
   "source": [
    "# load libraries\n",
    "from sklearn.model_selection import train_test_split\n",
    "from sklearn.preprocessing import OrdinalEncoder\n",
    "from sklearn.metrics import r2_score, mean_squared_error\n",
    "\n",
    "# set random seed\n",
    "RANDOM_SEED = 2021"
   ]
  },
  {
   "cell_type": "code",
   "execution_count": 9,
   "metadata": {},
   "outputs": [],
   "source": [
    "# split into predictors and outcome\n",
    "X = processed_df.iloc[:,:-1].to_numpy()\n",
    "y = processed_df.iloc[:,-1].to_numpy()"
   ]
  },
  {
   "cell_type": "code",
   "execution_count": 10,
   "metadata": {},
   "outputs": [],
   "source": [
    "# split into train and test sets\n",
    "X_train, X_test, y_train, y_test = train_test_split(X, y, test_size=0.1, random_state=RANDOM_SEED)"
   ]
  },
  {
   "cell_type": "markdown",
   "metadata": {},
   "source": [
    "## Encode categorical feature"
   ]
  },
  {
   "cell_type": "code",
   "execution_count": 11,
   "metadata": {},
   "outputs": [],
   "source": [
    "# encode categorical variable region at column 22 into numeric\n",
    "encoder = OrdinalEncoder()\n",
    "encoder.fit(X_train[:,22].reshape(-1,1))\n",
    "X_train[:,22] = encoder.transform(X_train[:,22].reshape(-1,1)).reshape(-1)\n",
    "X_test[:,22]  = encoder.transform(X_test[:,22].reshape(-1,1)).reshape(-1)"
   ]
  },
  {
   "cell_type": "markdown",
   "metadata": {},
   "source": [
    "## Add feature names back to X"
   ]
  },
  {
   "cell_type": "code",
   "execution_count": 12,
   "metadata": {},
   "outputs": [],
   "source": [
    "# add feature names back to X after splitting, encoding, and normalizing data\n",
    "X_train = pd.DataFrame(X_train, columns = processed_df.columns[:-1])\n",
    "X_test  = pd.DataFrame(X_test, columns = processed_df.columns[:-1])"
   ]
  },
  {
   "cell_type": "markdown",
   "metadata": {},
   "source": [
    "## Train regressor"
   ]
  },
  {
   "cell_type": "code",
   "execution_count": 13,
   "metadata": {},
   "outputs": [
    {
     "data": {
      "text/plain": [
       "ExplainableBoostingRegressor(feature_names=['trees', 'arable_land', 'ley',\n",
       "                                            'perm_grass', 'perm_crops',\n",
       "                                            'prot_cult', 'add_agr_land',\n",
       "                                            'oth_land', 'qual_landscape',\n",
       "                                            'spec_crops', 'grapes',\n",
       "                                            'vegetables', 'fruits',\n",
       "                                            'oth_spec_crops', 'animal_unit',\n",
       "                                            'cattle_animal_unit', 'dairy_cows',\n",
       "                                            'suckler_cows', 'hor_shee_goa',\n",
       "                                            'pigs_poultry', 'pigs', 'poultry',\n",
       "                                            'region', 'educ', 'cons_gene...\n",
       "                                            'continuous', 'continuous',\n",
       "                                            'continuous', 'continuous',\n",
       "                                            'categorical', 'continuous',\n",
       "                                            'continuous', 'continuous',\n",
       "                                            'continuous', 'continuous',\n",
       "                                            'continuous', 'continuous',\n",
       "                                            'continuous', 'continuous',\n",
       "                                            'continuous', 'continuous',\n",
       "                                            'continuous', 'continuous',\n",
       "                                            'continuous', 'continuous',\n",
       "                                            'continuous', 'continuous',\n",
       "                                            'continuous', 'continuous',\n",
       "                                            'continuous', 'continuous', ...],\n",
       "                             random_state=2021)"
      ]
     },
     "execution_count": 13,
     "metadata": {},
     "output_type": "execute_result"
    }
   ],
   "source": [
    "# train regressor\n",
    "ebm = ExplainableBoostingRegressor(random_state=RANDOM_SEED)\n",
    "ebm.fit(X_train, y_train)"
   ]
  },
  {
   "cell_type": "code",
   "execution_count": 14,
   "metadata": {},
   "outputs": [],
   "source": [
    "# get predictions for training and test set\n",
    "y_train_pred = ebm.predict(X_train)\n",
    "y_test_pred  = ebm.predict(X_test)"
   ]
  },
  {
   "cell_type": "code",
   "execution_count": 15,
   "metadata": {},
   "outputs": [
    {
     "data": {
      "image/png": "[encoded data removed]",
      "text/plain": [
       "<Figure size 432x288 with 1 Axes>"
      ]
     },
     "metadata": {},
     "output_type": "display_data"
    }
   ],
   "source": [
    "# plot predictions vs. actual for training set\n",
    "sns.scatterplot(\n",
    "    data=pd.DataFrame({'actual':y_train, 'predictions':y_train_pred}),\n",
    "    x='actual',\n",
    "    y='predictions')\n",
    "plt.savefig('../figures/ebm_train_actual_vs_predictions.png', dpi=300)"
   ]
  },
  {
   "cell_type": "code",
   "execution_count": 16,
   "metadata": {},
   "outputs": [
    {
     "data": {
      "image/png": "[encoded data removed]",
      "text/plain": [
       "<Figure size 432x288 with 1 Axes>"
      ]
     },
     "metadata": {},
     "output_type": "display_data"
    }
   ],
   "source": [
    "# plot predictions vs. actual for test set\n",
    "sns.scatterplot(\n",
    "    data=pd.DataFrame({'actual':y_test, 'predictions':y_test_pred}),\n",
    "    x='actual',\n",
    "    y='predictions')\n",
    "plt.savefig('../figures/ebm_test_actual_vs_predictions.png', dpi=300)"
   ]
  },
  {
   "cell_type": "code",
   "execution_count": 17,
   "metadata": {},
   "outputs": [
    {
     "name": "stdout",
     "output_type": "stream",
     "text": [
      "train: 0.9391913013794313 | test: 0.20569869329331658\n"
     ]
    }
   ],
   "source": [
    "# evaluate R-squared for training and test data\n",
    "r2_train = r2_score(y_train, y_train_pred)\n",
    "r2_test  = r2_score(y_test,  y_test_pred)\n",
    "print(f'train: {r2_train} | test: {r2_test}')"
   ]
  },
  {
   "cell_type": "code",
   "execution_count": 18,
   "metadata": {},
   "outputs": [
    {
     "name": "stdout",
     "output_type": "stream",
     "text": [
      "train: 0.001960972480184802 | test: 0.028597357393952163\n"
     ]
    }
   ],
   "source": [
    "# evaluate mean squared error for training and test data\n",
    "mse_train = mean_squared_error(y_train, y_train_pred)\n",
    "mse_test  = mean_squared_error(y_test,  y_test_pred)\n",
    "print(f'train: {mse_train} | test: {mse_test}')"
   ]
  },
  {
   "cell_type": "code",
   "execution_count": 19,
   "metadata": {},
   "outputs": [
    {
     "name": "stderr",
     "output_type": "stream",
     "text": [
      "/opt/anaconda3/lib/python3.7/site-packages/interpret/visual/udash.py:5: UserWarning: \n",
      "The dash_html_components package is deprecated. Please replace\n",
      "`import dash_html_components as html` with `from dash import html`\n",
      "  import dash_html_components as html\n",
      "/opt/anaconda3/lib/python3.7/site-packages/interpret/visual/udash.py:6: UserWarning: \n",
      "The dash_core_components package is deprecated. Please replace\n",
      "`import dash_core_components as dcc` with `from dash import dcc`\n",
      "  import dash_core_components as dcc\n",
      "/opt/anaconda3/lib/python3.7/site-packages/interpret/visual/udash.py:7: UserWarning: \n",
      "The dash_table package is deprecated. Please replace\n",
      "`import dash_table` with `from dash import dash_table`\n",
      "\n",
      "Also, if you're using any of the table format helpers (e.g. Group), replace \n",
      "`from dash_table.Format import Group` with \n",
      "`from dash.dash_table.Format import Group`\n",
      "  import dash_table as dt\n"
     ]
    },
    {
     "data": {
      "text/html": [
       "<!-- http://127.0.0.1:7231/140273280676816/ -->\n",
       "<iframe src=\"http://127.0.0.1:7231/140273280676816/\" width=100% height=800 frameBorder=\"0\"></iframe>"
      ]
     },
     "metadata": {},
     "output_type": "display_data"
    }
   ],
   "source": [
    "# explore feature importance\n",
    "ebm_global = ebm.explain_global()\n",
    "show(ebm_global)\n",
    "\n",
    "# save feature importance plot manually"
   ]
  },
  {
   "cell_type": "markdown",
   "metadata": {},
   "source": [
    "# Version details"
   ]
  },
  {
   "cell_type": "code",
   "execution_count": 20,
   "metadata": {},
   "outputs": [
    {
     "name": "stdout",
     "output_type": "stream",
     "text": [
      "Last updated: 2021-12-15T18:17:06.787918-08:00\n",
      "\n",
      "Python implementation: CPython\n",
      "Python version       : 3.7.7\n",
      "IPython version      : 7.19.0\n",
      "\n",
      "Compiler    : Clang 4.0.1 (tags/RELEASE_401/final)\n",
      "OS          : Darwin\n",
      "Release     : 19.6.0\n",
      "Machine     : x86_64\n",
      "Processor   : i386\n",
      "CPU cores   : 4\n",
      "Architecture: 64bit\n",
      "\n"
     ]
    }
   ],
   "source": [
    "%load_ext watermark\n",
    "%watermark"
   ]
  },
  {
   "cell_type": "code",
   "execution_count": 21,
   "metadata": {},
   "outputs": [
    {
     "name": "stdout",
     "output_type": "stream",
     "text": [
      "matplotlib: 3.3.2\n",
      "seaborn   : 0.11.1\n",
      "watermark : 2.2.0\n",
      "pandas    : 1.2.0\n",
      "sys       : 3.7.7 (default, Mar 26 2020, 10:32:53) \n",
      "[Clang 4.0.1 (tags/RELEASE_401/final)]\n",
      "\n"
     ]
    }
   ],
   "source": [
    "%watermark -iv"
   ]
  }
 ],
 "metadata": {
  "interpreter": {
   "hash": "40d3a090f54c6569ab1632332b64b2c03c39dcf918b08424e98f38b5ae0af88f"
  },
  "kernelspec": {
   "display_name": "Python 3.7.7 64-bit ('base': conda)",
   "language": "python",
   "name": "python3"
  },
  "language_info": {
   "codemirror_mode": {
    "name": "ipython",
    "version": 3
   },
   "file_extension": ".py",
   "mimetype": "text/x-python",
   "name": "python",
   "nbconvert_exporter": "python",
   "pygments_lexer": "ipython3",
   "version": "3.7.7"
  },
  "orig_nbformat": 4
 },
 "nbformat": 4,
 "nbformat_minor": 2
}
